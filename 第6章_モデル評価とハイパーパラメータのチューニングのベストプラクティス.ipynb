{
  "nbformat": 4,
  "nbformat_minor": 0,
  "metadata": {
    "colab": {
      "name": "第6章 モデル評価とハイパーパラメータのチューニングのベストプラクティス.ipynb",
      "provenance": [],
      "collapsed_sections": [],
      "authorship_tag": "ABX9TyNItagOEsK63QjArV96diYD",
      "include_colab_link": true
    },
    "kernelspec": {
      "name": "python3",
      "display_name": "Python 3"
    },
    "language_info": {
      "name": "python"
    }
  },
  "cells": [
    {
      "cell_type": "markdown",
      "metadata": {
        "id": "view-in-github",
        "colab_type": "text"
      },
      "source": [
        "<a href=\"https://colab.research.google.com/github/tatsubo777/machine_learning_study/blob/main/%E7%AC%AC6%E7%AB%A0_%E3%83%A2%E3%83%87%E3%83%AB%E8%A9%95%E4%BE%A1%E3%81%A8%E3%83%8F%E3%82%A4%E3%83%91%E3%83%BC%E3%83%91%E3%83%A9%E3%83%A1%E3%83%BC%E3%82%BF%E3%81%AE%E3%83%81%E3%83%A5%E3%83%BC%E3%83%8B%E3%83%B3%E3%82%B0%E3%81%AE%E3%83%99%E3%82%B9%E3%83%88%E3%83%97%E3%83%A9%E3%82%AF%E3%83%86%E3%82%A3%E3%82%B9.ipynb\" target=\"_parent\"><img src=\"https://colab.research.google.com/assets/colab-badge.svg\" alt=\"Open In Colab\"/></a>"
      ]
    },
    {
      "cell_type": "code",
      "execution_count": null,
      "metadata": {
        "id": "O_F5O6cwYbOO"
      },
      "outputs": [],
      "source": [
        ""
      ]
    },
    {
      "cell_type": "markdown",
      "source": [
        "\n",
        "\n",
        "*   機械学習モデルの性能の評価\n",
        "*   機械学習のアルゴリズムに共通する問題の診断\n",
        "*   機械学習のモデルのチューニング\n",
        "*   様々な性能指標に基づく予測モデルの評価"
      ],
      "metadata": {
        "id": "n9bLZjOcYnkT"
      }
    },
    {
      "cell_type": "markdown",
      "source": [
        "**6.1 パイプラインによるワークフローの効率化**\n",
        "\n",
        "**6.1.1 Brest Cancer Wisconsinデータセットを読み込む**\n",
        "\n",
        "\n",
        "\n"
      ],
      "metadata": {
        "id": "8-Fw9YIJY_c3"
      }
    },
    {
      "cell_type": "code",
      "source": [
        "import pandas as pd\n",
        "df = pd.read_csv('https://archive.ics.uci.edu/ml/machine-learning-databases/breast-cancer-wisconsin/wdbc.data',header=None)\n",
        "df"
      ],
      "metadata": {
        "colab": {
          "base_uri": "https://localhost:8080/",
          "height": 488
        },
        "id": "V3Tvg7pzY-xd",
        "outputId": "cbbb8f4d-bc38-4295-c80a-96618d66ce44"
      },
      "execution_count": null,
      "outputs": [
        {
          "output_type": "execute_result",
          "data": {
            "text/html": [
              "\n",
              "  <div id=\"df-0da4960d-f3b1-451e-93f4-119342301652\">\n",
              "    <div class=\"colab-df-container\">\n",
              "      <div>\n",
              "<style scoped>\n",
              "    .dataframe tbody tr th:only-of-type {\n",
              "        vertical-align: middle;\n",
              "    }\n",
              "\n",
              "    .dataframe tbody tr th {\n",
              "        vertical-align: top;\n",
              "    }\n",
              "\n",
              "    .dataframe thead th {\n",
              "        text-align: right;\n",
              "    }\n",
              "</style>\n",
              "<table border=\"1\" class=\"dataframe\">\n",
              "  <thead>\n",
              "    <tr style=\"text-align: right;\">\n",
              "      <th></th>\n",
              "      <th>0</th>\n",
              "      <th>1</th>\n",
              "      <th>2</th>\n",
              "      <th>3</th>\n",
              "      <th>4</th>\n",
              "      <th>5</th>\n",
              "      <th>6</th>\n",
              "      <th>7</th>\n",
              "      <th>8</th>\n",
              "      <th>9</th>\n",
              "      <th>10</th>\n",
              "      <th>11</th>\n",
              "      <th>12</th>\n",
              "      <th>13</th>\n",
              "      <th>14</th>\n",
              "      <th>15</th>\n",
              "      <th>16</th>\n",
              "      <th>17</th>\n",
              "      <th>18</th>\n",
              "      <th>19</th>\n",
              "      <th>20</th>\n",
              "      <th>21</th>\n",
              "      <th>22</th>\n",
              "      <th>23</th>\n",
              "      <th>24</th>\n",
              "      <th>25</th>\n",
              "      <th>26</th>\n",
              "      <th>27</th>\n",
              "      <th>28</th>\n",
              "      <th>29</th>\n",
              "      <th>30</th>\n",
              "      <th>31</th>\n",
              "    </tr>\n",
              "  </thead>\n",
              "  <tbody>\n",
              "    <tr>\n",
              "      <th>0</th>\n",
              "      <td>842302</td>\n",
              "      <td>M</td>\n",
              "      <td>17.99</td>\n",
              "      <td>10.38</td>\n",
              "      <td>122.80</td>\n",
              "      <td>1001.0</td>\n",
              "      <td>0.11840</td>\n",
              "      <td>0.27760</td>\n",
              "      <td>0.30010</td>\n",
              "      <td>0.14710</td>\n",
              "      <td>0.2419</td>\n",
              "      <td>0.07871</td>\n",
              "      <td>1.0950</td>\n",
              "      <td>0.9053</td>\n",
              "      <td>8.589</td>\n",
              "      <td>153.40</td>\n",
              "      <td>0.006399</td>\n",
              "      <td>0.04904</td>\n",
              "      <td>0.05373</td>\n",
              "      <td>0.01587</td>\n",
              "      <td>0.03003</td>\n",
              "      <td>0.006193</td>\n",
              "      <td>25.380</td>\n",
              "      <td>17.33</td>\n",
              "      <td>184.60</td>\n",
              "      <td>2019.0</td>\n",
              "      <td>0.16220</td>\n",
              "      <td>0.66560</td>\n",
              "      <td>0.7119</td>\n",
              "      <td>0.2654</td>\n",
              "      <td>0.4601</td>\n",
              "      <td>0.11890</td>\n",
              "    </tr>\n",
              "    <tr>\n",
              "      <th>1</th>\n",
              "      <td>842517</td>\n",
              "      <td>M</td>\n",
              "      <td>20.57</td>\n",
              "      <td>17.77</td>\n",
              "      <td>132.90</td>\n",
              "      <td>1326.0</td>\n",
              "      <td>0.08474</td>\n",
              "      <td>0.07864</td>\n",
              "      <td>0.08690</td>\n",
              "      <td>0.07017</td>\n",
              "      <td>0.1812</td>\n",
              "      <td>0.05667</td>\n",
              "      <td>0.5435</td>\n",
              "      <td>0.7339</td>\n",
              "      <td>3.398</td>\n",
              "      <td>74.08</td>\n",
              "      <td>0.005225</td>\n",
              "      <td>0.01308</td>\n",
              "      <td>0.01860</td>\n",
              "      <td>0.01340</td>\n",
              "      <td>0.01389</td>\n",
              "      <td>0.003532</td>\n",
              "      <td>24.990</td>\n",
              "      <td>23.41</td>\n",
              "      <td>158.80</td>\n",
              "      <td>1956.0</td>\n",
              "      <td>0.12380</td>\n",
              "      <td>0.18660</td>\n",
              "      <td>0.2416</td>\n",
              "      <td>0.1860</td>\n",
              "      <td>0.2750</td>\n",
              "      <td>0.08902</td>\n",
              "    </tr>\n",
              "    <tr>\n",
              "      <th>2</th>\n",
              "      <td>84300903</td>\n",
              "      <td>M</td>\n",
              "      <td>19.69</td>\n",
              "      <td>21.25</td>\n",
              "      <td>130.00</td>\n",
              "      <td>1203.0</td>\n",
              "      <td>0.10960</td>\n",
              "      <td>0.15990</td>\n",
              "      <td>0.19740</td>\n",
              "      <td>0.12790</td>\n",
              "      <td>0.2069</td>\n",
              "      <td>0.05999</td>\n",
              "      <td>0.7456</td>\n",
              "      <td>0.7869</td>\n",
              "      <td>4.585</td>\n",
              "      <td>94.03</td>\n",
              "      <td>0.006150</td>\n",
              "      <td>0.04006</td>\n",
              "      <td>0.03832</td>\n",
              "      <td>0.02058</td>\n",
              "      <td>0.02250</td>\n",
              "      <td>0.004571</td>\n",
              "      <td>23.570</td>\n",
              "      <td>25.53</td>\n",
              "      <td>152.50</td>\n",
              "      <td>1709.0</td>\n",
              "      <td>0.14440</td>\n",
              "      <td>0.42450</td>\n",
              "      <td>0.4504</td>\n",
              "      <td>0.2430</td>\n",
              "      <td>0.3613</td>\n",
              "      <td>0.08758</td>\n",
              "    </tr>\n",
              "    <tr>\n",
              "      <th>3</th>\n",
              "      <td>84348301</td>\n",
              "      <td>M</td>\n",
              "      <td>11.42</td>\n",
              "      <td>20.38</td>\n",
              "      <td>77.58</td>\n",
              "      <td>386.1</td>\n",
              "      <td>0.14250</td>\n",
              "      <td>0.28390</td>\n",
              "      <td>0.24140</td>\n",
              "      <td>0.10520</td>\n",
              "      <td>0.2597</td>\n",
              "      <td>0.09744</td>\n",
              "      <td>0.4956</td>\n",
              "      <td>1.1560</td>\n",
              "      <td>3.445</td>\n",
              "      <td>27.23</td>\n",
              "      <td>0.009110</td>\n",
              "      <td>0.07458</td>\n",
              "      <td>0.05661</td>\n",
              "      <td>0.01867</td>\n",
              "      <td>0.05963</td>\n",
              "      <td>0.009208</td>\n",
              "      <td>14.910</td>\n",
              "      <td>26.50</td>\n",
              "      <td>98.87</td>\n",
              "      <td>567.7</td>\n",
              "      <td>0.20980</td>\n",
              "      <td>0.86630</td>\n",
              "      <td>0.6869</td>\n",
              "      <td>0.2575</td>\n",
              "      <td>0.6638</td>\n",
              "      <td>0.17300</td>\n",
              "    </tr>\n",
              "    <tr>\n",
              "      <th>4</th>\n",
              "      <td>84358402</td>\n",
              "      <td>M</td>\n",
              "      <td>20.29</td>\n",
              "      <td>14.34</td>\n",
              "      <td>135.10</td>\n",
              "      <td>1297.0</td>\n",
              "      <td>0.10030</td>\n",
              "      <td>0.13280</td>\n",
              "      <td>0.19800</td>\n",
              "      <td>0.10430</td>\n",
              "      <td>0.1809</td>\n",
              "      <td>0.05883</td>\n",
              "      <td>0.7572</td>\n",
              "      <td>0.7813</td>\n",
              "      <td>5.438</td>\n",
              "      <td>94.44</td>\n",
              "      <td>0.011490</td>\n",
              "      <td>0.02461</td>\n",
              "      <td>0.05688</td>\n",
              "      <td>0.01885</td>\n",
              "      <td>0.01756</td>\n",
              "      <td>0.005115</td>\n",
              "      <td>22.540</td>\n",
              "      <td>16.67</td>\n",
              "      <td>152.20</td>\n",
              "      <td>1575.0</td>\n",
              "      <td>0.13740</td>\n",
              "      <td>0.20500</td>\n",
              "      <td>0.4000</td>\n",
              "      <td>0.1625</td>\n",
              "      <td>0.2364</td>\n",
              "      <td>0.07678</td>\n",
              "    </tr>\n",
              "    <tr>\n",
              "      <th>...</th>\n",
              "      <td>...</td>\n",
              "      <td>...</td>\n",
              "      <td>...</td>\n",
              "      <td>...</td>\n",
              "      <td>...</td>\n",
              "      <td>...</td>\n",
              "      <td>...</td>\n",
              "      <td>...</td>\n",
              "      <td>...</td>\n",
              "      <td>...</td>\n",
              "      <td>...</td>\n",
              "      <td>...</td>\n",
              "      <td>...</td>\n",
              "      <td>...</td>\n",
              "      <td>...</td>\n",
              "      <td>...</td>\n",
              "      <td>...</td>\n",
              "      <td>...</td>\n",
              "      <td>...</td>\n",
              "      <td>...</td>\n",
              "      <td>...</td>\n",
              "      <td>...</td>\n",
              "      <td>...</td>\n",
              "      <td>...</td>\n",
              "      <td>...</td>\n",
              "      <td>...</td>\n",
              "      <td>...</td>\n",
              "      <td>...</td>\n",
              "      <td>...</td>\n",
              "      <td>...</td>\n",
              "      <td>...</td>\n",
              "      <td>...</td>\n",
              "    </tr>\n",
              "    <tr>\n",
              "      <th>564</th>\n",
              "      <td>926424</td>\n",
              "      <td>M</td>\n",
              "      <td>21.56</td>\n",
              "      <td>22.39</td>\n",
              "      <td>142.00</td>\n",
              "      <td>1479.0</td>\n",
              "      <td>0.11100</td>\n",
              "      <td>0.11590</td>\n",
              "      <td>0.24390</td>\n",
              "      <td>0.13890</td>\n",
              "      <td>0.1726</td>\n",
              "      <td>0.05623</td>\n",
              "      <td>1.1760</td>\n",
              "      <td>1.2560</td>\n",
              "      <td>7.673</td>\n",
              "      <td>158.70</td>\n",
              "      <td>0.010300</td>\n",
              "      <td>0.02891</td>\n",
              "      <td>0.05198</td>\n",
              "      <td>0.02454</td>\n",
              "      <td>0.01114</td>\n",
              "      <td>0.004239</td>\n",
              "      <td>25.450</td>\n",
              "      <td>26.40</td>\n",
              "      <td>166.10</td>\n",
              "      <td>2027.0</td>\n",
              "      <td>0.14100</td>\n",
              "      <td>0.21130</td>\n",
              "      <td>0.4107</td>\n",
              "      <td>0.2216</td>\n",
              "      <td>0.2060</td>\n",
              "      <td>0.07115</td>\n",
              "    </tr>\n",
              "    <tr>\n",
              "      <th>565</th>\n",
              "      <td>926682</td>\n",
              "      <td>M</td>\n",
              "      <td>20.13</td>\n",
              "      <td>28.25</td>\n",
              "      <td>131.20</td>\n",
              "      <td>1261.0</td>\n",
              "      <td>0.09780</td>\n",
              "      <td>0.10340</td>\n",
              "      <td>0.14400</td>\n",
              "      <td>0.09791</td>\n",
              "      <td>0.1752</td>\n",
              "      <td>0.05533</td>\n",
              "      <td>0.7655</td>\n",
              "      <td>2.4630</td>\n",
              "      <td>5.203</td>\n",
              "      <td>99.04</td>\n",
              "      <td>0.005769</td>\n",
              "      <td>0.02423</td>\n",
              "      <td>0.03950</td>\n",
              "      <td>0.01678</td>\n",
              "      <td>0.01898</td>\n",
              "      <td>0.002498</td>\n",
              "      <td>23.690</td>\n",
              "      <td>38.25</td>\n",
              "      <td>155.00</td>\n",
              "      <td>1731.0</td>\n",
              "      <td>0.11660</td>\n",
              "      <td>0.19220</td>\n",
              "      <td>0.3215</td>\n",
              "      <td>0.1628</td>\n",
              "      <td>0.2572</td>\n",
              "      <td>0.06637</td>\n",
              "    </tr>\n",
              "    <tr>\n",
              "      <th>566</th>\n",
              "      <td>926954</td>\n",
              "      <td>M</td>\n",
              "      <td>16.60</td>\n",
              "      <td>28.08</td>\n",
              "      <td>108.30</td>\n",
              "      <td>858.1</td>\n",
              "      <td>0.08455</td>\n",
              "      <td>0.10230</td>\n",
              "      <td>0.09251</td>\n",
              "      <td>0.05302</td>\n",
              "      <td>0.1590</td>\n",
              "      <td>0.05648</td>\n",
              "      <td>0.4564</td>\n",
              "      <td>1.0750</td>\n",
              "      <td>3.425</td>\n",
              "      <td>48.55</td>\n",
              "      <td>0.005903</td>\n",
              "      <td>0.03731</td>\n",
              "      <td>0.04730</td>\n",
              "      <td>0.01557</td>\n",
              "      <td>0.01318</td>\n",
              "      <td>0.003892</td>\n",
              "      <td>18.980</td>\n",
              "      <td>34.12</td>\n",
              "      <td>126.70</td>\n",
              "      <td>1124.0</td>\n",
              "      <td>0.11390</td>\n",
              "      <td>0.30940</td>\n",
              "      <td>0.3403</td>\n",
              "      <td>0.1418</td>\n",
              "      <td>0.2218</td>\n",
              "      <td>0.07820</td>\n",
              "    </tr>\n",
              "    <tr>\n",
              "      <th>567</th>\n",
              "      <td>927241</td>\n",
              "      <td>M</td>\n",
              "      <td>20.60</td>\n",
              "      <td>29.33</td>\n",
              "      <td>140.10</td>\n",
              "      <td>1265.0</td>\n",
              "      <td>0.11780</td>\n",
              "      <td>0.27700</td>\n",
              "      <td>0.35140</td>\n",
              "      <td>0.15200</td>\n",
              "      <td>0.2397</td>\n",
              "      <td>0.07016</td>\n",
              "      <td>0.7260</td>\n",
              "      <td>1.5950</td>\n",
              "      <td>5.772</td>\n",
              "      <td>86.22</td>\n",
              "      <td>0.006522</td>\n",
              "      <td>0.06158</td>\n",
              "      <td>0.07117</td>\n",
              "      <td>0.01664</td>\n",
              "      <td>0.02324</td>\n",
              "      <td>0.006185</td>\n",
              "      <td>25.740</td>\n",
              "      <td>39.42</td>\n",
              "      <td>184.60</td>\n",
              "      <td>1821.0</td>\n",
              "      <td>0.16500</td>\n",
              "      <td>0.86810</td>\n",
              "      <td>0.9387</td>\n",
              "      <td>0.2650</td>\n",
              "      <td>0.4087</td>\n",
              "      <td>0.12400</td>\n",
              "    </tr>\n",
              "    <tr>\n",
              "      <th>568</th>\n",
              "      <td>92751</td>\n",
              "      <td>B</td>\n",
              "      <td>7.76</td>\n",
              "      <td>24.54</td>\n",
              "      <td>47.92</td>\n",
              "      <td>181.0</td>\n",
              "      <td>0.05263</td>\n",
              "      <td>0.04362</td>\n",
              "      <td>0.00000</td>\n",
              "      <td>0.00000</td>\n",
              "      <td>0.1587</td>\n",
              "      <td>0.05884</td>\n",
              "      <td>0.3857</td>\n",
              "      <td>1.4280</td>\n",
              "      <td>2.548</td>\n",
              "      <td>19.15</td>\n",
              "      <td>0.007189</td>\n",
              "      <td>0.00466</td>\n",
              "      <td>0.00000</td>\n",
              "      <td>0.00000</td>\n",
              "      <td>0.02676</td>\n",
              "      <td>0.002783</td>\n",
              "      <td>9.456</td>\n",
              "      <td>30.37</td>\n",
              "      <td>59.16</td>\n",
              "      <td>268.6</td>\n",
              "      <td>0.08996</td>\n",
              "      <td>0.06444</td>\n",
              "      <td>0.0000</td>\n",
              "      <td>0.0000</td>\n",
              "      <td>0.2871</td>\n",
              "      <td>0.07039</td>\n",
              "    </tr>\n",
              "  </tbody>\n",
              "</table>\n",
              "<p>569 rows × 32 columns</p>\n",
              "</div>\n",
              "      <button class=\"colab-df-convert\" onclick=\"convertToInteractive('df-0da4960d-f3b1-451e-93f4-119342301652')\"\n",
              "              title=\"Convert this dataframe to an interactive table.\"\n",
              "              style=\"display:none;\">\n",
              "        \n",
              "  <svg xmlns=\"http://www.w3.org/2000/svg\" height=\"24px\"viewBox=\"0 0 24 24\"\n",
              "       width=\"24px\">\n",
              "    <path d=\"M0 0h24v24H0V0z\" fill=\"none\"/>\n",
              "    <path d=\"M18.56 5.44l.94 2.06.94-2.06 2.06-.94-2.06-.94-.94-2.06-.94 2.06-2.06.94zm-11 1L8.5 8.5l.94-2.06 2.06-.94-2.06-.94L8.5 2.5l-.94 2.06-2.06.94zm10 10l.94 2.06.94-2.06 2.06-.94-2.06-.94-.94-2.06-.94 2.06-2.06.94z\"/><path d=\"M17.41 7.96l-1.37-1.37c-.4-.4-.92-.59-1.43-.59-.52 0-1.04.2-1.43.59L10.3 9.45l-7.72 7.72c-.78.78-.78 2.05 0 2.83L4 21.41c.39.39.9.59 1.41.59.51 0 1.02-.2 1.41-.59l7.78-7.78 2.81-2.81c.8-.78.8-2.07 0-2.86zM5.41 20L4 18.59l7.72-7.72 1.47 1.35L5.41 20z\"/>\n",
              "  </svg>\n",
              "      </button>\n",
              "      \n",
              "  <style>\n",
              "    .colab-df-container {\n",
              "      display:flex;\n",
              "      flex-wrap:wrap;\n",
              "      gap: 12px;\n",
              "    }\n",
              "\n",
              "    .colab-df-convert {\n",
              "      background-color: #E8F0FE;\n",
              "      border: none;\n",
              "      border-radius: 50%;\n",
              "      cursor: pointer;\n",
              "      display: none;\n",
              "      fill: #1967D2;\n",
              "      height: 32px;\n",
              "      padding: 0 0 0 0;\n",
              "      width: 32px;\n",
              "    }\n",
              "\n",
              "    .colab-df-convert:hover {\n",
              "      background-color: #E2EBFA;\n",
              "      box-shadow: 0px 1px 2px rgba(60, 64, 67, 0.3), 0px 1px 3px 1px rgba(60, 64, 67, 0.15);\n",
              "      fill: #174EA6;\n",
              "    }\n",
              "\n",
              "    [theme=dark] .colab-df-convert {\n",
              "      background-color: #3B4455;\n",
              "      fill: #D2E3FC;\n",
              "    }\n",
              "\n",
              "    [theme=dark] .colab-df-convert:hover {\n",
              "      background-color: #434B5C;\n",
              "      box-shadow: 0px 1px 3px 1px rgba(0, 0, 0, 0.15);\n",
              "      filter: drop-shadow(0px 1px 2px rgba(0, 0, 0, 0.3));\n",
              "      fill: #FFFFFF;\n",
              "    }\n",
              "  </style>\n",
              "\n",
              "      <script>\n",
              "        const buttonEl =\n",
              "          document.querySelector('#df-0da4960d-f3b1-451e-93f4-119342301652 button.colab-df-convert');\n",
              "        buttonEl.style.display =\n",
              "          google.colab.kernel.accessAllowed ? 'block' : 'none';\n",
              "\n",
              "        async function convertToInteractive(key) {\n",
              "          const element = document.querySelector('#df-0da4960d-f3b1-451e-93f4-119342301652');\n",
              "          const dataTable =\n",
              "            await google.colab.kernel.invokeFunction('convertToInteractive',\n",
              "                                                     [key], {});\n",
              "          if (!dataTable) return;\n",
              "\n",
              "          const docLinkHtml = 'Like what you see? Visit the ' +\n",
              "            '<a target=\"_blank\" href=https://colab.research.google.com/notebooks/data_table.ipynb>data table notebook</a>'\n",
              "            + ' to learn more about interactive tables.';\n",
              "          element.innerHTML = '';\n",
              "          dataTable['output_type'] = 'display_data';\n",
              "          await google.colab.output.renderOutput(dataTable, element);\n",
              "          const docLink = document.createElement('div');\n",
              "          docLink.innerHTML = docLinkHtml;\n",
              "          element.appendChild(docLink);\n",
              "        }\n",
              "      </script>\n",
              "    </div>\n",
              "  </div>\n",
              "  "
            ],
            "text/plain": [
              "           0  1      2      3   ...      28      29      30       31\n",
              "0      842302  M  17.99  10.38  ...  0.7119  0.2654  0.4601  0.11890\n",
              "1      842517  M  20.57  17.77  ...  0.2416  0.1860  0.2750  0.08902\n",
              "2    84300903  M  19.69  21.25  ...  0.4504  0.2430  0.3613  0.08758\n",
              "3    84348301  M  11.42  20.38  ...  0.6869  0.2575  0.6638  0.17300\n",
              "4    84358402  M  20.29  14.34  ...  0.4000  0.1625  0.2364  0.07678\n",
              "..        ... ..    ...    ...  ...     ...     ...     ...      ...\n",
              "564    926424  M  21.56  22.39  ...  0.4107  0.2216  0.2060  0.07115\n",
              "565    926682  M  20.13  28.25  ...  0.3215  0.1628  0.2572  0.06637\n",
              "566    926954  M  16.60  28.08  ...  0.3403  0.1418  0.2218  0.07820\n",
              "567    927241  M  20.60  29.33  ...  0.9387  0.2650  0.4087  0.12400\n",
              "568     92751  B   7.76  24.54  ...  0.0000  0.0000  0.2871  0.07039\n",
              "\n",
              "[569 rows x 32 columns]"
            ]
          },
          "metadata": {},
          "execution_count": 64
        }
      ]
    },
    {
      "cell_type": "code",
      "source": [
        "from sklearn.preprocessing import LabelEncoder\n",
        "import pandas as pd\n",
        "\n",
        "X = df.loc[:,2:].values\n",
        "y = df.loc[:,1].values\n",
        "le = LabelEncoder()\n",
        "y = le.fit_transform(y)\n",
        "le.classes_\n",
        "\n"
      ],
      "metadata": {
        "colab": {
          "base_uri": "https://localhost:8080/"
        },
        "id": "E9PTDnPcZ_mN",
        "outputId": "7da8db19-8306-4c72-920e-d5d1e798416d"
      },
      "execution_count": null,
      "outputs": [
        {
          "output_type": "execute_result",
          "data": {
            "text/plain": [
              "array(['B', 'M'], dtype=object)"
            ]
          },
          "metadata": {},
          "execution_count": 65
        }
      ]
    },
    {
      "cell_type": "markdown",
      "source": [
        "悪性腫瘍は1、良性腫瘍は0"
      ],
      "metadata": {
        "id": "GR5lrr9t9XCI"
      }
    },
    {
      "cell_type": "code",
      "source": [
        "le.transform(['M','B'])"
      ],
      "metadata": {
        "colab": {
          "base_uri": "https://localhost:8080/"
        },
        "id": "RGPgErXn4ry0",
        "outputId": "f783b5fc-e01a-466a-c676-a8fc6ce7b011"
      },
      "execution_count": null,
      "outputs": [
        {
          "output_type": "execute_result",
          "data": {
            "text/plain": [
              "array([1, 0])"
            ]
          },
          "metadata": {},
          "execution_count": 66
        }
      ]
    },
    {
      "cell_type": "code",
      "source": [
        "from sklearn.model_selection import train_test_split\n",
        "X_train,X_test,y_train,y_test = train_test_split(X,y,test_size=0.20,\n",
        "                                                 stratify=y,random_state=1)"
      ],
      "metadata": {
        "id": "59-VDTp59d_V"
      },
      "execution_count": null,
      "outputs": []
    },
    {
      "cell_type": "markdown",
      "source": [
        "**6.1.2 パイプラインで変換器と推定器を結合する**\n",
        "\n",
        "主成分分析を使って３０個の特徴量を２個の部分空間に圧縮したい。\n"
      ],
      "metadata": {
        "id": "8R_Jc6nx91UE"
      }
    },
    {
      "cell_type": "code",
      "source": [
        "from sklearn.preprocessing import StandardScaler\n",
        "from sklearn.decomposition import PCA\n",
        "from sklearn.linear_model import LogisticRegression\n",
        "from sklearn.pipeline import make_pipeline\n",
        "#連結する処理としてスケーリング、主成分分析、ロジスティック回帰を指定\n",
        "pipe_lr = make_pipeline(StandardScaler(),\n",
        "                        PCA(n_components=2),\n",
        "                        LogisticRegression(random_state=1,solver='lbfgs'))\n",
        "pipe_lr.fit(X_train,y_train)\n",
        "y_pred = pipe_lr.predict(X_test)\n",
        "print('Test Accuracy: %.3f' % pipe_lr.score(X_test,y_test))"
      ],
      "metadata": {
        "colab": {
          "base_uri": "https://localhost:8080/"
        },
        "id": "aNlQIJ6Q90IS",
        "outputId": "5faf8908-06f1-46f4-95bc-52e92f3839d1"
      },
      "execution_count": null,
      "outputs": [
        {
          "output_type": "stream",
          "name": "stdout",
          "text": [
            "Test Accuracy: 0.956\n"
          ]
        }
      ]
    },
    {
      "cell_type": "markdown",
      "source": [
        "**6.2 k分割交差検証を使ったモデルの性能の評価**\n",
        "\n",
        "**6.2.1ホールドアウト法**\n",
        "復元抽出法である\n",
        "機械学習の汎化性能を評価するために従来より使われている一般的なアプローチ\n",
        "データセットを訓練データ、検証データ、テストデータの３つに分け、検証データを使ってハイパーパラメータのチューニングを行う\n",
        "\n",
        "**6.2.2 k分割交差検証**\n",
        "非復元抽出である。ホールドアウト法よりもバリアンスの低い性能評価が得られるという利点がある。\n",
        "層化k分割交差検証とはクラスタの比率が均等ではないケースときに性能がアップすることがよくある。\n",
        "　\n"
      ],
      "metadata": {
        "id": "1yov3dcEAZcq"
      }
    },
    {
      "cell_type": "code",
      "source": [
        " import numpy as np\n",
        " from sklearn.model_selection import StratifiedKFold\n",
        " #分割元データ、分割数、らん数生成器の状態を指定し、\n",
        " #層化k分割交差検証イテレータを表すstratifiedKfoldクラスのインスタンス化\n",
        " kfold = StratifiedKFold(n_splits=10).split(X_train,y_train)\n",
        "\n",
        " scores =[]\n",
        " #イテレータのインデックスの要素をループ処理：（うえから順に）\n",
        " #データをモデルに適合\n",
        " #テストデータの正解率を算出　　\n",
        " #リストに正解率を追加\n",
        " #分割の番号、０以上の要素数、正解率を出力\n",
        " for k ,(train,test) in enumerate(kfold):\n",
        "\n",
        "    pipe_lr.fit(X_train[train],y_train[train])\n",
        "    score = pipe_lr.score(X_train[test], y_train[test])\n",
        "    scores.append(score)\n",
        "    print('Fold: %2d, Class dist: %s,Acc: %3f '%\n",
        "         (k+1,np.bincount(y_train[train]),score))\n",
        "    #正解率の平均と出力を表示\n",
        "    print('\\nCV accuracy: %.3f +/- %.3f' % (np.mean(scores),np.std(scores)))"
      ],
      "metadata": {
        "colab": {
          "base_uri": "https://localhost:8080/"
        },
        "id": "ykP6PwP-_SLt",
        "outputId": "ed1f2a7c-24ac-4f20-b8a8-9bdc2066f044"
      },
      "execution_count": null,
      "outputs": [
        {
          "output_type": "stream",
          "name": "stdout",
          "text": [
            "Fold:  1, Class dist: [256 153],Acc: 0.934783 \n",
            "\n",
            "CV accuracy: 0.935 +/- 0.000\n",
            "Fold:  2, Class dist: [256 153],Acc: 0.934783 \n",
            "\n",
            "CV accuracy: 0.935 +/- 0.000\n",
            "Fold:  3, Class dist: [256 153],Acc: 0.956522 \n",
            "\n",
            "CV accuracy: 0.942 +/- 0.010\n",
            "Fold:  4, Class dist: [256 153],Acc: 0.956522 \n",
            "\n",
            "CV accuracy: 0.946 +/- 0.011\n",
            "Fold:  5, Class dist: [256 153],Acc: 0.934783 \n",
            "\n",
            "CV accuracy: 0.943 +/- 0.011\n",
            "Fold:  6, Class dist: [257 153],Acc: 0.955556 \n",
            "\n",
            "CV accuracy: 0.945 +/- 0.011\n",
            "Fold:  7, Class dist: [257 153],Acc: 0.977778 \n",
            "\n",
            "CV accuracy: 0.950 +/- 0.015\n",
            "Fold:  8, Class dist: [257 153],Acc: 0.933333 \n",
            "\n",
            "CV accuracy: 0.948 +/- 0.015\n",
            "Fold:  9, Class dist: [257 153],Acc: 0.955556 \n",
            "\n",
            "CV accuracy: 0.949 +/- 0.014\n",
            "Fold: 10, Class dist: [257 153],Acc: 0.955556 \n",
            "\n",
            "CV accuracy: 0.950 +/- 0.014\n"
          ]
        }
      ]
    },
    {
      "cell_type": "code",
      "source": [
        "from sklearn.model_selection import cross_val_score\n",
        "#交差検証のcross_val_score関数でモデルの正解率を表示\n",
        "#推定器estimator,訓練データX,予測値y,分割数CV、CPU数n_jobsを指定\n",
        "scores = cross_val_score(estimator = pipe_lr,\n",
        "                         X=X_train,y = y_train,\n",
        "                         cv=10,n_jobs=1)\n",
        "print('CV accuracy scores: %s' % scores)\n",
        "\n",
        "print('CV accuracy: %')"
      ],
      "metadata": {
        "colab": {
          "base_uri": "https://localhost:8080/"
        },
        "id": "Puvz1lA9WP4I",
        "outputId": "784c57b5-a55a-492f-8ae3-cf43f7a9bf3d"
      },
      "execution_count": null,
      "outputs": [
        {
          "output_type": "stream",
          "name": "stdout",
          "text": [
            "CV accuracy scores: [0.93478261 0.93478261 0.95652174 0.95652174 0.93478261 0.95555556\n",
            " 0.97777778 0.93333333 0.95555556 0.95555556]\n",
            "CV accuracy: %\n"
          ]
        }
      ]
    },
    {
      "cell_type": "code",
      "source": [
        "import numpy as np\n",
        "from sklearn.model_selection import StratifiedKFold\n",
        "    \n",
        "\n",
        "kfold = StratifiedKFold(n_splits=10).split(X_train, y_train)\n",
        "\n",
        "scores = []\n",
        "for k, (train, test) in enumerate(kfold):\n",
        "    pipe_lr.fit(X_train[train], y_train[train])\n",
        "    score = pipe_lr.score(X_train[test], y_train[test])\n",
        "    scores.append(score)\n",
        "    print('Fold: %2d, Class dist.: %s, Acc: %.3f' % (k+1,\n",
        "          np.bincount(y_train[train]), score))\n",
        "    \n",
        "print('\\nCV accuracy: %.3f +/- %.3f' % (np.mean(scores), np.std(scores)))"
      ],
      "metadata": {
        "colab": {
          "base_uri": "https://localhost:8080/"
        },
        "id": "lSjHFpVTVPgB",
        "outputId": "68029ab7-10b1-49fe-e348-7a619b4b8ab0"
      },
      "execution_count": null,
      "outputs": [
        {
          "output_type": "stream",
          "name": "stdout",
          "text": [
            "Fold:  1, Class dist.: [256 153], Acc: 0.935\n",
            "Fold:  2, Class dist.: [256 153], Acc: 0.935\n",
            "Fold:  3, Class dist.: [256 153], Acc: 0.957\n",
            "Fold:  4, Class dist.: [256 153], Acc: 0.957\n",
            "Fold:  5, Class dist.: [256 153], Acc: 0.935\n",
            "Fold:  6, Class dist.: [257 153], Acc: 0.956\n",
            "Fold:  7, Class dist.: [257 153], Acc: 0.978\n",
            "Fold:  8, Class dist.: [257 153], Acc: 0.933\n",
            "Fold:  9, Class dist.: [257 153], Acc: 0.956\n",
            "Fold: 10, Class dist.: [257 153], Acc: 0.956\n",
            "\n",
            "CV accuracy: 0.950 +/- 0.014\n"
          ]
        }
      ]
    },
    {
      "cell_type": "markdown",
      "source": [
        "**6.3学習曲線と検証曲線によるアルゴリズムの診断**\n",
        "\n",
        "これらを使うと、バイアスが高いか、バリアンスが高いのかわかるようになる\n",
        "\n",
        "**6.3.1 学習曲線を使ってバイアスとバリアンスの問題について考える**\n",
        "\n",
        "バリアンスが高ければ正則化のパラメータを増やすなどして、モデルの複雑さを抑えれば良い。\n",
        "\n",
        "正則化されていないモデルの学習には特徴量選択や特徴量抽出の基づいて特徴量の個数を減らすのも効果的である。\n",
        "\n"
      ],
      "metadata": {
        "id": "xKT03L6_F_vJ"
      }
    },
    {
      "cell_type": "code",
      "source": [
        "import matplotlib.pyplot as plt\n",
        "from sklearn.model_selection import learning_curve\n",
        "pipe_lr = make_pipeline(StandardScaler(),\n",
        "                        LogisticRegression(penalty='l2',random_state=1,\n",
        "                                           solver='lbfgs',max_iter=10000))\n",
        "#learning_curve関数で交差検証による正解率を算出\n",
        "train_sizes,train_scores,test_scores = learning_curve(estimator=pipe_lr,\n",
        "                                                      X=X_train,y=y_train,\n",
        "                                                      train_sizes=np.linspace(0.1,1.0,10),cv=10,n_jobs=1)\n",
        "train_mean = np.mean(train_scores,axis=1)\n",
        "train_std = np.std(train_scores,axis=1)\n",
        "test_mean = np.mean(test_scores,axis=1)\n",
        "test_std = np.std(test_scores,axis=1)\n",
        "plt.plot(train_sizes,train_mean,\n",
        "         color='blue',marker='o',markersize=5,label='Training accuracy')\n",
        "\n",
        "\n",
        "#fill_between関数で平均±標準誤差の幅を塗りつぬす\n",
        "#訓練データのサイズtrain_sizes,透明度alpha,カラーblueを引数に指定\n",
        "plt.fill_between(train_sizes,\n",
        "                 train_mean + train_std,\n",
        "                 train_mean - train_std,\n",
        "                 alpha=0.15,color='blue')\n",
        "plt.plot(train_sizes,test_mean,\n",
        "         color='green',linestyle='--',marker='s',markersize=5,\n",
        "         label='Validation accuracy')\n",
        "\n",
        "plt.fill_between(train_sizes,\n",
        "                 test_mean + test_std,\n",
        "                 test_mean - test_std,\n",
        "                 alpha=0.15,color='green')\n",
        "plt.grid()\n",
        "plt.xlabel('Number of training examples')\n",
        "plt.ylabel('Accuracy')\n",
        "plt.legend(loc='lower right')\n",
        "plt.ylim([0.8,1.03])\n",
        "plt.tight_layout()\n",
        "plt.show()"
      ],
      "metadata": {
        "colab": {
          "base_uri": "https://localhost:8080/",
          "height": 297
        },
        "id": "JebNfcmBV7f2",
        "outputId": "26d912b9-d960-4bef-c6f7-c87489ec4909"
      },
      "execution_count": null,
      "outputs": [
        {
          "output_type": "display_data",
          "data": {
            "image/png": "[encoded data removed]",
            "text/plain": [
              "<Figure size 432x288 with 1 Axes>"
            ]
          },
          "metadata": {
            "needs_background": "light"
          }
        }
      ]
    },
    {
      "cell_type": "markdown",
      "source": [
        "**6.3.2 検証曲線を使って過学習と学習不足を明らかにする**\n",
        "\n",
        "訓練とテストの正解率をプロットするだけでなく、モデルのパラメータの値を変化させる。\n",
        "\n",
        "例えばロジスティック回帰の逆正則化パラメータCを変化させる。\n",
        "\n",
        "scikit-learnを使って検証曲線を作成する"
      ],
      "metadata": {
        "id": "Tj1XOWw-twP9"
      }
    },
    {
      "cell_type": "code",
      "source": [
        "from sklearn.model_selection import validation_curve\n",
        "param_range = [0.001,0.01,0.1,1.0,10.0,100.0]\n",
        "#validation_curve関数によりモデルのパラメータを変化させ、交差検証による正解率を算出\n",
        "train_scores,test_scores = validation_curve(estimator=pipe_lr,\n",
        "                                            X=X_train,y=y_train,\n",
        "                                            param_name='logisticregression__C',\n",
        "                                            param_range=param_range,\n",
        "                                            cv=10)\n",
        "                                            \n",
        "train_mean = np.mean(train_scores,axis=1)\n",
        "train_std = np.std(train_scores,axis=1)\n",
        "test_mean = np.mean(test_scores,axis=1)\n",
        "test_std = np.std(test_scores,axis=1)\n",
        "plt.plot(param_range,train_mean,\n",
        "         color='blue',marker='o',markersize=5,\n",
        "         label='Training accuracy')\n",
        "plt.fill_between(param_range,\n",
        "                 train_mean + train_std, train_mean - train_std,\n",
        "                 alpha=0.15,color='blue')\n",
        "plt.plot(param_range,test_mean,\n",
        "         color='green',linestyle='--',marker='s',markersize=5,\n",
        "         label='Validation accuracy')\n",
        "plt.fill_between(param_range,\n",
        "                 test_mean + test_std, test_mean - test_std,\n",
        "                 alpha=0.5,color='green')\n",
        "plt.grid()\n",
        "plt.xscale('log')\n",
        "plt.legend(loc='lower right')\n",
        "plt.xlabel('Parameter C')\n",
        "plt.ylabel('Accuracy')\n",
        "plt.ylim([0.8,1.0])\n",
        "plt.tight_layout()\n",
        "plt.show()"
      ],
      "metadata": {
        "colab": {
          "base_uri": "https://localhost:8080/",
          "height": 297
        },
        "id": "0dUTyCXFmUTS",
        "outputId": "a02108cb-011e-44b4-9bb8-4c11e019316b"
      },
      "execution_count": null,
      "outputs": [
        {
          "output_type": "display_data",
          "data": {
            "image/png": "[encoded data removed]",
            "text/plain": [
              "<Figure size 432x288 with 1 Axes>"
            ]
          },
          "metadata": {
            "needs_background": "light"
          }
        }
      ]
    },
    {
      "cell_type": "markdown",
      "source": [
        "**6.4 グリッドサーチによる機械学習モデルのチューニング**\n",
        "\n",
        "グリッドサーチ　＝＝　最適化\n",
        "\n",
        "**6.4.1 グリッドサーチを使ったハイパーパラメータのチューニング**"
      ],
      "metadata": {
        "id": "a5lEjT7WHb7j"
      }
    },
    {
      "cell_type": "code",
      "source": [
        "from sklearn.model_selection import GridSearchCV\n",
        "from sklearn.svm import SVC\n",
        "pipe_svc = make_pipeline(StandardScaler(),SVC(random_state=1))\n",
        "param_range = [0.0001,0.001,0.01,0.1,1.0,10.0,100.0,1000.0]\n",
        "param_grid = [{'svc__C' : param_range,'svc__kernel' : ['linear']},\n",
        "                      {'svc__C' : param_range,'svc__gamma':param_range,\n",
        "                       'svc__kernel' : ['rbf']}]\n",
        "#ハイパーパラメータ値のリストparam_gridを指定し、\n",
        "#グリッドサーチを行うGridSerchCVクラスをインスタンス化\n",
        "gs = GridSearchCV(estimator=pipe_svc,\n",
        "                  param_grid=param_grid,\n",
        "                  scoring='accuracy',cv=10,refit=True,n_jobs=-1)\n",
        "gs = gs.fit(X_train,y_train)\n",
        "#モデル最良スコアを出力\n",
        "print(gs.best_score_)\n",
        "#最良スコアとなるパラメータ値を出力\n",
        "print(gs.best_params_)"
      ],
      "metadata": {
        "colab": {
          "base_uri": "https://localhost:8080/"
        },
        "id": "BZ67Pi2OE9nT",
        "outputId": "53d0adb8-200c-4978-a447-d1f3c7613176"
      },
      "execution_count": null,
      "outputs": [
        {
          "output_type": "stream",
          "name": "stdout",
          "text": [
            "0.9846859903381642\n",
            "{'svc__C': 100.0, 'svc__gamma': 0.001, 'svc__kernel': 'rbf'}\n"
          ]
        }
      ]
    },
    {
      "cell_type": "code",
      "source": [
        "clf = gs.best_estimator_\n",
        "clf.fit(X_train,y_train)\n",
        "print('Test accuracy: %3f' % clf.score(X_test,y_test))"
      ],
      "metadata": {
        "colab": {
          "base_uri": "https://localhost:8080/"
        },
        "id": "DS-RoaK8MvJ4",
        "outputId": "68526838-62ff-44aa-ff7c-5adc0eb7459a"
      },
      "execution_count": null,
      "outputs": [
        {
          "output_type": "stream",
          "name": "stdout",
          "text": [
            "Test accuracy: 0.973684\n"
          ]
        }
      ]
    },
    {
      "cell_type": "markdown",
      "source": [
        "**6.4.2 入れ子式の交差検証によるアルゴリズムの選択**\n",
        "\n"
      ],
      "metadata": {
        "id": "bzK9u0loYbDL"
      }
    },
    {
      "cell_type": "code",
      "source": [
        "gs = GridSearchCV(estimator=pipe_svc,\n",
        "                  param_grid=param_grid,\n",
        "                  scoring='accuracy',cv=2)\n",
        "scores = cross_val_score(gs,X_train,y_train,scoring='accuracy',cv=5)\n",
        "print('CV accuracy: %.3f +/- %.3f' % (np.mean(scores),np.std(scores)))"
      ],
      "metadata": {
        "colab": {
          "base_uri": "https://localhost:8080/"
        },
        "id": "SZq7C_vkSiOG",
        "outputId": "eb381a28-5638-4481-9b57-c11aecee6a1b"
      },
      "execution_count": null,
      "outputs": [
        {
          "output_type": "stream",
          "name": "stdout",
          "text": [
            "CV accuracy: 0.974 +/- 0.015\n"
          ]
        }
      ]
    },
    {
      "cell_type": "code",
      "source": [
        "from sklearn.tree import DecisionTreeClassifier\n",
        "#ハイパーパラメータ値として決定木の深さパラメータを指定し、\n",
        "#グリッドサーチを行うGridSearchCVクラスをインスタンス化\n",
        "gs = GridSearchCV(estimator = DecisionTreeClassifier(random_state=0),\n",
        "                  param_grid=[{'max_depth' : [1,2,3,4,5,6,7,None]}],\n",
        "                  scoring='accuracy',cv=2)\n",
        "scores = cross_val_score(gs,\n",
        "                         X_train,y_train,\n",
        "                         scoring='accuracy',cv=5)\n",
        "print('CV accuracy: %3f +/- %.3f' % (np.mean(scores),np.std(scores)))"
      ],
      "metadata": {
        "colab": {
          "base_uri": "https://localhost:8080/"
        },
        "id": "xJoKSbqZaJ54",
        "outputId": "6d9b8774-ffc8-4833-e37c-552554deef46"
      },
      "execution_count": null,
      "outputs": [
        {
          "output_type": "stream",
          "name": "stdout",
          "text": [
            "CV accuracy: 0.934066 +/- 0.016\n"
          ]
        }
      ]
    },
    {
      "cell_type": "markdown",
      "source": [
        "**6.5 様々な性能評価指標**\n",
        "\n",
        "precision recall f1-score"
      ],
      "metadata": {
        "id": "33QOaFuSBQqu"
      }
    },
    {
      "cell_type": "code",
      "source": [
        "from sklearn.metrics import confusion_matrix\n",
        "pipe_svc.fit(X_train,y_train)\n",
        "y_pred = pipe_svc.predict(X_test)\n",
        "#テストと予測データから金剛行列を作成\n",
        "confmat = confusion_matrix(y_true=y_test,y_pred=y_pred)\n",
        "print(confmat)"
      ],
      "metadata": {
        "colab": {
          "base_uri": "https://localhost:8080/"
        },
        "id": "B75Bn7mYAXKq",
        "outputId": "b3e5e8ef-1371-473b-a8e1-82530761546a"
      },
      "execution_count": null,
      "outputs": [
        {
          "output_type": "stream",
          "name": "stdout",
          "text": [
            "[[71  1]\n",
            " [ 2 40]]\n"
          ]
        }
      ]
    },
    {
      "cell_type": "code",
      "source": [
        "#図のサイズを指定\n",
        "fig,ax = plt.subplots(figsize=(2.5,2.5))\n",
        "#matshow関数で行列からヒートマップを描写\n",
        "ax.matshow(confmat,cmap=plt.cm.Blues,alpha=0.3)\n",
        "for i in range(confmat.shape[0]):\n",
        "  for j in range(confmat.shape[1]):\n",
        "    ax.text (x=j, y=i,s=confmat[i,j],va='center',ha='center') #件数を表示\n",
        "plt.xlabel('Predicted label')\n",
        "plt.ylabel('True label')\n",
        "plt.tight_layout()\n",
        "plt.show()"
      ],
      "metadata": {
        "colab": {
          "base_uri": "https://localhost:8080/",
          "height": 189
        },
        "id": "AOqRGthaDdhI",
        "outputId": "7e08222d-7efe-46fa-9691-deaf21e3b942"
      },
      "execution_count": null,
      "outputs": [
        {
          "output_type": "display_data",
          "data": {
            "image/png": "[encoded data removed]",
            "text/plain": [
              "<Figure size 180x180 with 1 Axes>"
            ]
          },
          "metadata": {
            "needs_background": "light"
          }
        }
      ]
    },
    {
      "cell_type": "markdown",
      "source": [
        "**6.5.2 分類モデルの適合率と再現率を最適化する**\n",
        "\n",
        "再現率（recall)の最適化は悪性腫瘍の不検出の可能性を最小化するのに役立つ\n",
        "\n",
        "適合率（precision)の最適化は悪性腫瘍があると予測する正確さを強化できる。ただし、その代償として悪性腫瘍の不検出がより頻繁に起きる（FNの値が大きい）\n",
        "\n",
        "これらのバランスを取るために生み出されたのがF1score"
      ],
      "metadata": {
        "id": "P8OgL5hhGyOl"
      }
    },
    {
      "cell_type": "code",
      "source": [
        "#適合率、再現率、F1scoreを出力\n",
        "from sklearn.metrics import precision_score\n",
        "from sklearn.metrics import recall_score,f1_score\n",
        "print('Precision: %.3f' % precision_score(y_true=y_test,y_pred=y_pred))\n",
        "print('Recall: %.3f' % recall_score(y_true=y_test,y_pred=y_pred))\n",
        "print('F1: %.3f' % f1_score(y_true=y_test,y_pred=y_pred))"
      ],
      "metadata": {
        "colab": {
          "base_uri": "https://localhost:8080/"
        },
        "id": "gicrRq-hE_6V",
        "outputId": "56b0df29-7f13-4a65-c406-38aff33e5df5"
      },
      "execution_count": null,
      "outputs": [
        {
          "output_type": "stream",
          "name": "stdout",
          "text": [
            "Precision: 0.976\n",
            "Recall: 0.952\n",
            "F1: 0.964\n"
          ]
        }
      ]
    },
    {
      "cell_type": "markdown",
      "source": [
        "グリッドサーチで性能指標はscoring引数で指定できる"
      ],
      "metadata": {
        "id": "hL6jy_0MItcf"
      }
    },
    {
      "cell_type": "code",
      "source": [
        "#カスタムの性能指標を出力\n",
        "from sklearn.metrics import make_scorer,f1_score\n",
        "c_gamma_range = [0.01,0.1,1.0,10.0]\n",
        " \n",
        "param_grid = [{'svc__C': c_gamma_range,\n",
        "               'svc__kernel': ['linear']},\n",
        "              {'svc__C': c_gamma_range,\n",
        "               'svc__gamma': c_gamma_range,\n",
        "               'svc__kernel': ['rbf']}]                      \n",
        "\n",
        "\n",
        "scorer = make_scorer(f1_score,pos_label=0)\n",
        "gs = GridSearchCV(estimator=pipe_svc,\n",
        "                   param_grid=param_grid,\n",
        "                   scoring=scorer,\n",
        "                   cv=10,n_jobs=-1)\n",
        "\n",
        "\n",
        "\n",
        "\n",
        "gs=gs.fit(X_train,y_train)\n",
        "\n",
        "print(gs.best_score_)\n",
        "print(gs.best_params_)                     "
      ],
      "metadata": {
        "colab": {
          "base_uri": "https://localhost:8080/"
        },
        "id": "afzVQTPCI426",
        "outputId": "287850d4-b692-4036-b9b2-394e7dab78fe"
      },
      "execution_count": null,
      "outputs": [
        {
          "output_type": "stream",
          "name": "stdout",
          "text": [
            "0.9861994953378878\n",
            "{'svc__C': 10.0, 'svc__gamma': 0.01, 'svc__kernel': 'rbf'}\n"
          ]
        }
      ]
    },
    {
      "cell_type": "markdown",
      "source": [
        "**6.5.3ROC曲線をプロットする**\n",
        "\n",
        "ROC曲線は性能に基づいて分類モデルを選択するために便利なツールである。\n",
        "\n"
      ],
      "metadata": {
        "id": "CRr8vOc9Mv1S"
      }
    },
    {
      "cell_type": "code",
      "source": [
        "from numpy.lib.function_base import interp\n",
        "from sklearn.metrics import roc_curve,auc\n",
        "from scipy import interp\n",
        "#スケーリング、主成分分析、ロジスティック回帰を指定してpipelineクラスをインスタンス化\n",
        "pipe_lr = make_pipeline(StandardScaler(),PCA(n_components=2),\n",
        "                        LogisticRegression(penalty='l2',random_state=1,\n",
        "                                           solver='lbfgs',C=100.0))\n",
        "\n",
        "#二つの特徴量を抽出\n",
        "X_train2 = X_train[:,[4,14]]\n",
        "#層化分割交差検証イテレータを表すStratifiedKFOLDクラスをインスタンス化\n",
        "cv = list(StratifiedKFold(n_splits=3).split(X_train,y_train))\n",
        "fig = plt.figure(figsize=(7,5))\n",
        "mean_tpr=0.0\n",
        "#0から1までの間で１００個の要素を生成\n",
        "mean_fpr = np.linspace(0,1,100)\n",
        "all_tpr = []\n",
        "for i,(train,test) in enumerate(cv):\n",
        "  #predict_probaメソッドで確率を予測、fitに適合させる\n",
        "  probas = pipe_lr.fit(X_train2[train],\n",
        "                       y_train[train]).predict_proba(X_train2[test])\n",
        "  #roc_curve関数でROC曲線の性能を計算してプロット\n",
        "  fpr,tpr,thresholds = roc_curve(y_train[test],probas[:,1],pos_label=1)\n",
        "  mean_tpr += interp(mean_fpr,fpr,tpr) #fprとtprの線型空間\n",
        "  mean_tpr[0] = 0.0\n",
        "  roc_auc = auc(fpr,tpr)\n",
        "  plt.plot(fpr,tpr,label='ROC fold %d(area=%0.2f)' % (i+1,roc_auc))\n",
        "\n",
        "#当て推量プロット\n",
        "plt.plot([0,1],[0,1],\n",
        "         linestyle='--',color=(0.6,0.6,0.6),label='Random gussing')\n",
        "#FPR,TPR,ROC,AUCそれぞれの平均を計算してプロット\n",
        "mean_tpr /= len(cv)\n",
        "mean_tpr[-1] =1.0\n",
        "mean_auc=auc(mean_fpr,mean_tpr)\n",
        "plt.plot(mean_fpr,mean_tpr,'k--',\n",
        "         label='Mean ROC(area= %0.2f)' % mean_auc,lw=2)\n",
        "#完全に予測が正解した時のROC曲線をプロット\n",
        "plt.plot([0,0,1],[0,1,1],\n",
        "         linestyle=':',color='black',label='Perfect performance')\n",
        "\n",
        "plt.xlim([-0.05,1.05])\n",
        "plt.ylim([-0.05,1.15])\n",
        "plt.xlabel('False positive rate')\n",
        "plt.ylabel('True positive rate')\n",
        "plt.legend(loc='lower right')\n",
        "plt.tight_layout()\n",
        "plt.show()\n"
      ],
      "metadata": {
        "colab": {
          "base_uri": "https://localhost:8080/",
          "height": 421
        },
        "id": "E_A2_1_WKl1Z",
        "outputId": "0138e9ca-a970-46e3-f59b-bb491a618a5d"
      },
      "execution_count": null,
      "outputs": [
        {
          "output_type": "stream",
          "name": "stderr",
          "text": [
            "/usr/local/lib/python3.7/dist-packages/ipykernel_launcher.py:24: DeprecationWarning: scipy.interp is deprecated and will be removed in SciPy 2.0.0, use numpy.interp instead\n",
            "/usr/local/lib/python3.7/dist-packages/ipykernel_launcher.py:24: DeprecationWarning: scipy.interp is deprecated and will be removed in SciPy 2.0.0, use numpy.interp instead\n",
            "/usr/local/lib/python3.7/dist-packages/ipykernel_launcher.py:24: DeprecationWarning: scipy.interp is deprecated and will be removed in SciPy 2.0.0, use numpy.interp instead\n"
          ]
        },
        {
          "output_type": "display_data",
          "data": {
            "image/png": "[encoded data removed]",
            "text/plain": [
              "<Figure size 504x360 with 1 Axes>"
            ]
          },
          "metadata": {
            "needs_background": "light"
          }
        }
      ]
    },
    {
      "cell_type": "markdown",
      "source": [
        "**6.5.4多クラス分類のための性能指標**\n",
        "\n",
        "sklearnにはマクロとマイクロも実装されている。\n",
        "\n",
        "一対全分類を通じてそれらを性能指標を多クラス問題に拡張するものである。\n",
        "\n"
      ],
      "metadata": {
        "id": "tc6B0rZDcsqj"
      }
    },
    {
      "cell_type": "code",
      "source": [
        "pre_scorer = make_scorer(score_func=precision_score,\n",
        "                         pos_label=1,\n",
        "                         greater_is_better=True,\n",
        "                         average='micro')"
      ],
      "metadata": {
        "id": "_eZ1s6OcK7_F"
      },
      "execution_count": null,
      "outputs": []
    },
    {
      "cell_type": "markdown",
      "source": [
        "**6.6クラスの不均衡に対処する**"
      ],
      "metadata": {
        "id": "SWyVh91TiuU3"
      }
    },
    {
      "cell_type": "code",
      "source": [
        "X_imb = np.vstack((X[y==0],X[y==1][:40]))\n",
        "y_imb = np.hstack((y[y==0],y[y==1][:40]))"
      ],
      "metadata": {
        "id": "9wNr1esuiKF-"
      },
      "execution_count": null,
      "outputs": []
    },
    {
      "cell_type": "code",
      "source": [
        "y_pred =  np.zeros(y_imb.shape[0])\n",
        "np.mean(y_pred ==y_imb) *100"
      ],
      "metadata": {
        "colab": {
          "base_uri": "https://localhost:8080/"
        },
        "id": "YooEhoTpO-jW",
        "outputId": "e41ec4ed-0ed5-4732-9c1d-afed0d78f867"
      },
      "execution_count": null,
      "outputs": [
        {
          "output_type": "execute_result",
          "data": {
            "text/plain": [
              "89.92443324937027"
            ]
          },
          "metadata": {},
          "execution_count": 85
        }
      ]
    },
    {
      "cell_type": "code",
      "source": [
        "#アップサンプリング\n",
        "from sklearn.utils import resample\n",
        "print('Number of class 1 example before:', X_imb[y_imb == 1].shape[0])\n",
        "\n",
        "#データ点の個数がクラス０と同じになるまで新しいデータ点を復元抽出\n",
        "X_upsampled,y_upsampled = resample(X_imb[y_imb==1],\n",
        "                                   y_imb[y_imb==1],\n",
        "                                   replace=True,\n",
        "                                   n_samples=X_imb[y_imb==0].shape[0],\n",
        "                                   random_state=123)\n",
        "print('Number of class 1 example after:', X_upsampled.shape[0])\n",
        "\n"
      ],
      "metadata": {
        "colab": {
          "base_uri": "https://localhost:8080/"
        },
        "id": "TK7Q20Tvjogz",
        "outputId": "c50bec06-ff5f-4a8c-c4c1-dd8a2a4f8c83"
      },
      "execution_count": null,
      "outputs": [
        {
          "output_type": "stream",
          "name": "stdout",
          "text": [
            "Number of class 1 example before: 40\n",
            "Number of class 1 example after: 357\n"
          ]
        }
      ]
    },
    {
      "cell_type": "code",
      "source": [
        "X_bal = np.vstack((X[y==0],X_upsampled))\n",
        "y_bal = np.hstack((y[y==0],y_upsampled))\n",
        "y_pred = np.zeros(y_bal.shape[0])\n",
        "np.mean(y_pred == y_bal) * 100"
      ],
      "metadata": {
        "colab": {
          "base_uri": "https://localhost:8080/"
        },
        "id": "jDsMYWdXlYiK",
        "outputId": "631034f0-99e7-4057-8275-6380bec1931c"
      },
      "execution_count": null,
      "outputs": [
        {
          "output_type": "execute_result",
          "data": {
            "text/plain": [
              "50.0"
            ]
          },
          "metadata": {},
          "execution_count": 88
        }
      ]
    },
    {
      "cell_type": "code",
      "source": [
        ""
      ],
      "metadata": {
        "id": "ajCIqmKUeLbu"
      },
      "execution_count": null,
      "outputs": []
    }
  ]
}