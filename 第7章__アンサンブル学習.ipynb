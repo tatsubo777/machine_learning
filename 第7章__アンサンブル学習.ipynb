{
  "nbformat": 4,
  "nbformat_minor": 0,
  "metadata": {
    "colab": {
      "name": "第7章_ アンサンブル学習.ipynb",
      "provenance": [],
      "collapsed_sections": [],
      "authorship_tag": "ABX9TyMUBRGa6B4QdTpQI6QhqZp+",
      "include_colab_link": true
    },
    "kernelspec": {
      "name": "python3",
      "display_name": "Python 3"
    },
    "language_info": {
      "name": "python"
    }
  },
  "cells": [
    {
      "cell_type": "markdown",
      "metadata": {
        "id": "view-in-github",
        "colab_type": "text"
      },
      "source": [
        "<a href=\"https://colab.research.google.com/github/tatsubo777/machine_learning_study/blob/main/%E7%AC%AC7%E7%AB%A0__%E3%82%A2%E3%83%B3%E3%82%B5%E3%83%B3%E3%83%96%E3%83%AB%E5%AD%A6%E7%BF%92.ipynb\" target=\"_parent\"><img src=\"https://colab.research.google.com/assets/colab-badge.svg\" alt=\"Open In Colab\"/></a>"
      ]
    },
    {
      "cell_type": "markdown",
      "source": [
        "**7.1アンサンブルによる学習**\n",
        "\n",
        "pythonで確率質量関数を実装"
      ],
      "metadata": {
        "id": "rp1fuYAAfAsN"
      }
    },
    {
      "cell_type": "code",
      "execution_count": null,
      "metadata": {
        "colab": {
          "base_uri": "https://localhost:8080/"
        },
        "id": "2xTVyerke4a3",
        "outputId": "02b7b209-a484-4e7c-c8e0-e1c0e5d246b6"
      },
      "outputs": [
        {
          "output_type": "execute_result",
          "data": {
            "text/plain": [
              "0.03432750701904297"
            ]
          },
          "metadata": {},
          "execution_count": 29
        }
      ],
      "source": [
        "from scipy.special import comb\n",
        "import math\n",
        "def ensemble_error(n_classifier,error):\n",
        "  k_start = int(math.ceil(n_classifier/2.))\n",
        "  probs = [comb(n_classifier,k) * error**k*\n",
        "           (1-error)**(n_classifier-k)\n",
        "           for k in range(k_start, n_classifier+1)]\n",
        "  return sum(probs)\n",
        "\n",
        "ensemble_error(n_classifier=11,error=0.25)\n"
      ]
    },
    {
      "cell_type": "code",
      "source": [
        ""
      ],
      "metadata": {
        "id": "VOIt4qnynkho"
      },
      "execution_count": null,
      "outputs": []
    },
    {
      "cell_type": "markdown",
      "source": [
        "アンサンブルとベース分類器の誤分類の関係を折れ線グラフとしてプロット"
      ],
      "metadata": {
        "id": "f7iKo1x9e_xM"
      }
    },
    {
      "cell_type": "code",
      "source": [
        "import numpy as np\n",
        "import matplotlib.pyplot as plt\n",
        "\n",
        "error_range = np.arange(0.0,1.01,0.01)\n",
        "ens_errors = [ensemble_error(n_classifier=11,error=error)\n",
        "for error in error_range]\n",
        "plt.plot(error_range,ens_errors,\n",
        "         label='Ensemble error',linewidth=2)\n",
        "plt.plot(error_range,error_range,\n",
        "         linestyle='--',label='Base error',linewidth=2)\n",
        "plt.xlabel('Base error')\n",
        "plt.ylabel('Base/Ensemble error')\n",
        "plt.legend(loc='upper left')\n",
        "plt.grid(alpha=0.5)\n",
        "plt.show()\n"
      ],
      "metadata": {
        "colab": {
          "base_uri": "https://localhost:8080/",
          "height": 279
        },
        "id": "abO9JW7snHRK",
        "outputId": "c9711c63-991b-4bc9-84c8-dab994b80803"
      },
      "execution_count": null,
      "outputs": [
        {
          "output_type": "display_data",
          "data": {
            "image/png": "[encoded data removed]",
            "text/plain": [
              "<Figure size 432x288 with 1 Axes>"
            ]
          },
          "metadata": {
            "needs_background": "light"
          }
        }
      ]
    },
    {
      "cell_type": "markdown",
      "source": [
        "**7.2 多数決による分類器の結合**\n",
        "\n",
        "**7.2.1単純な多数決分類器を実装する**\n",
        "\n",
        "重み付きの多数決の概念をコードに置き換えるにはargmax関数とbincountを利用すれば良い"
      ],
      "metadata": {
        "id": "fQJS8IlYpGcl"
      }
    },
    {
      "cell_type": "code",
      "source": [
        "import numpy as np\n",
        "np.argmax(np.bincount([0,0,1],weights=[0.2,0.2,0.6]))"
      ],
      "metadata": {
        "colab": {
          "base_uri": "https://localhost:8080/"
        },
        "id": "T18AR50IofEb",
        "outputId": "e24c7fe1-f2b3-40dd-c997-1c4881a4a76d"
      },
      "execution_count": null,
      "outputs": [
        {
          "output_type": "execute_result",
          "data": {
            "text/plain": [
              "1"
            ]
          },
          "metadata": {},
          "execution_count": 31
        }
      ]
    },
    {
      "cell_type": "markdown",
      "source": [
        "クラス確率に基づく重み付きの多数決を実装する場合にもaverageとargmaxを利用する"
      ],
      "metadata": {
        "id": "sBMx91yKrev9"
      }
    },
    {
      "cell_type": "code",
      "source": [
        "ex = np.array([[0.9,0.1],\n",
        "              [0.8,0.2],\n",
        "              [0.4,0.6]])\n",
        "p = np.average(ex,axis=0,weights=[0.2,0.2,0.6])\n",
        "print(p)\n",
        "\n",
        "np.argmax(p)"
      ],
      "metadata": {
        "colab": {
          "base_uri": "https://localhost:8080/"
        },
        "id": "b0tMDVO8q82J",
        "outputId": "c3c2566c-6a42-419b-f997-b6b6d2c0f07a"
      },
      "execution_count": null,
      "outputs": [
        {
          "output_type": "stream",
          "name": "stdout",
          "text": [
            "[0.58 0.42]\n"
          ]
        },
        {
          "output_type": "execute_result",
          "data": {
            "text/plain": [
              "0"
            ]
          },
          "metadata": {},
          "execution_count": 32
        }
      ]
    },
    {
      "cell_type": "markdown",
      "source": [
        "これを組み合わせて、MajorityVoteClassifierを実装してみよう"
      ],
      "metadata": {
        "id": "y5lUoOLxsIBI"
      }
    },
    {
      "cell_type": "code",
      "source": [
        "from sklearn.base import BaseEstimator\n",
        "from sklearn.base import ClassifierMixin\n",
        "from sklearn.preprocessing import LabelEncoder\n",
        "from sklearn.base import clone\n",
        "from sklearn.pipeline import _name_estimators\n",
        "import numpy as np\n",
        "import operator\n",
        "\n",
        "\n",
        "class MajorityVoteClassifier(BaseEstimator, \n",
        "                             ClassifierMixin):\n",
        "    \"\"\" A majority vote ensemble classifier\n",
        "\n",
        "    Parameters\n",
        "    ----------\n",
        "    classifiers : array-like, shape = [n_classifiers]\n",
        "      Different classifiers for the ensemble\n",
        "\n",
        "    vote : str, {'classlabel', 'probability'} (default='classlabel')\n",
        "      If 'classlabel' the prediction is based on the argmax of\n",
        "        class labels. Else if 'probability', the argmax of\n",
        "        the sum of probabilities is used to predict the class label\n",
        "        (recommended for calibrated classifiers).\n",
        "\n",
        "    weights : array-like, shape = [n_classifiers], optional (default=None)\n",
        "      If a list of `int` or `float` values are provided, the classifiers\n",
        "      are weighted by importance; Uses uniform weights if `weights=None`.\n",
        "\n",
        "    \"\"\"\n",
        "    def __init__(self, classifiers, vote='classlabel', weights=None):\n",
        "\n",
        "        self.classifiers = classifiers\n",
        "        self.named_classifiers = {key: value for key, value\n",
        "                                  in _name_estimators(classifiers)}\n",
        "        self.vote = vote\n",
        "        self.weights = weights\n",
        "\n",
        "    def fit(self, X, y):\n",
        "        \"\"\" Fit classifiers.\n",
        "\n",
        "        Parameters\n",
        "        ----------\n",
        "        X : {array-like, sparse matrix}, shape = [n_examples, n_features]\n",
        "            Matrix of training examples.\n",
        "\n",
        "        y : array-like, shape = [n_examples]\n",
        "            Vector of target class labels.\n",
        "\n",
        "        Returns\n",
        "        -------\n",
        "        self : object\n",
        "\n",
        "        \"\"\"\n",
        "        if self.vote not in ('probability', 'classlabel'):\n",
        "            raise ValueError(\"vote must be 'probability' or 'classlabel'\"\n",
        "                             \"; got (vote=%r)\"\n",
        "                             % self.vote)\n",
        "\n",
        "        if self.weights and len(self.weights) != len(self.classifiers):\n",
        "            raise ValueError('Number of classifiers and weights must be equal'\n",
        "                             '; got %d weights, %d classifiers'\n",
        "                             % (len(self.weights), len(self.classifiers)))\n",
        "\n",
        "        # Use LabelEncoder to ensure class labels start with 0, which\n",
        "        # is important for np.argmax call in self.predict\n",
        "        self.lablenc_ = LabelEncoder()\n",
        "        self.lablenc_.fit(y)\n",
        "        self.classes_ = self.lablenc_.classes_\n",
        "        self.classifiers_ = []\n",
        "        for clf in self.classifiers:\n",
        "            fitted_clf = clone(clf).fit(X, self.lablenc_.transform(y))\n",
        "            self.classifiers_.append(fitted_clf)\n",
        "        return self\n",
        "\n",
        "    def predict(self, X):\n",
        "        \"\"\" Predict class labels for X.\n",
        "\n",
        "        Parameters\n",
        "        ----------\n",
        "        X : {array-like, sparse matrix}, shape = [n_examples, n_features]\n",
        "            Matrix of training examples.\n",
        "\n",
        "        Returns\n",
        "        ----------\n",
        "        maj_vote : array-like, shape = [n_examples]\n",
        "            Predicted class labels.\n",
        "            \n",
        "        \"\"\"\n",
        "        if self.vote == 'probability':\n",
        "            maj_vote = np.argmax(self.predict_proba(X), axis=1)\n",
        "        else:  # 'classlabel' vote\n",
        "\n",
        "            #  Collect results from clf.predict calls\n",
        "            predictions = np.asarray([clf.predict(X)\n",
        "                                      for clf in self.classifiers_]).T\n",
        "\n",
        "            maj_vote = np.apply_along_axis(\n",
        "                                      lambda x:\n",
        "                                      np.argmax(np.bincount(x,\n",
        "                                                weights=self.weights)),\n",
        "                                      axis=1,\n",
        "                                      arr=predictions)\n",
        "        maj_vote = self.lablenc_.inverse_transform(maj_vote)\n",
        "        return maj_vote\n",
        "\n",
        "    def predict_proba(self, X):\n",
        "        \"\"\" Predict class probabilities for X.\n",
        "\n",
        "        Parameters\n",
        "        ----------\n",
        "        X : {array-like, sparse matrix}, shape = [n_examples, n_features]\n",
        "            Training vectors, where n_examples is the number of examples and\n",
        "            n_features is the number of features.\n",
        "\n",
        "        Returns\n",
        "        ----------\n",
        "        avg_proba : array-like, shape = [n_examples, n_classes]\n",
        "            Weighted average probability for each class per example.\n",
        "\n",
        "        \"\"\"\n",
        "        probas = np.asarray([clf.predict_proba(X)\n",
        "                             for clf in self.classifiers_])\n",
        "        avg_proba = np.average(probas, axis=0, weights=self.weights)\n",
        "        return avg_proba\n",
        "\n",
        "    def get_params(self, deep=True):\n",
        "        \"\"\" Get classifier parameter names for GridSearch\"\"\"\n",
        "        if not deep:\n",
        "            return super(MajorityVoteClassifier, self).get_params(deep=False)\n",
        "        else:\n",
        "            out = self.named_classifiers.copy()\n",
        "            for name, step in self.named_classifiers.items():\n",
        "                for key, value in step.get_params(deep=True).items():\n",
        "                    out['%s__%s' % (name, key)] = value\n",
        "            return out"
      ],
      "metadata": {
        "id": "-hB4TAjmsDBA"
      },
      "execution_count": null,
      "outputs": []
    },
    {
      "cell_type": "markdown",
      "source": [
        "平均確率を返すpredict_probaメソッドも追加\n",
        "\n",
        "平均確率はROC曲線の曲線下面積（ROC AUC）の計算に役立つ"
      ],
      "metadata": {
        "id": "jIqQSR3xrpUf"
      }
    },
    {
      "cell_type": "code",
      "source": [
        "def predict(self,X):\n",
        "  \"\"\" Xのクラスラベルを予測する\n",
        "\n",
        "  パラメータ\n",
        "  ------------------\n",
        "  X : {array-like, sparse,matrix}, shape = [n_examples,n_features]\n",
        "  訓練データからなる行列\n",
        "\n",
        "  戻り値\n",
        "  -------------------\n",
        "  maj_vote : array-like,shape=[n_examples]\n",
        "  予測されたラベル\n",
        "\n",
        "  \"\"\"\n",
        "  if self.vote == 'probability':\n",
        "    maj_vote = np.argmax(self.predict_proba(X), axis=1)\n",
        "  else: #'classlabel'での多数決\n",
        "\n",
        "    #clf.predict 呼び出しの結果を収集\n",
        "    predictions = np.asarray([clf.predict(X)\n",
        "    for clf in self.classifiers_]).T\n",
        "\n",
        "    #各データ点のクラス確率に重みをかけて足し合わせた値が最大となる\n",
        "    #列番号を配列として返す\n",
        "    maj_vote = np.apply_along_axis(\n",
        "        lambda x:\n",
        "        np.argmax(np.bincount(x, weights=self.weights)),\n",
        "        axis=1,\n",
        "        arr=predictions\n",
        "    )\n",
        "    #各データ点に確率の最大値を与えるクラスラベルを抽出\n",
        "    maj_vote = self.lablenc_.inverse_transform(maj_vote)\n",
        "    return maj_vote\n",
        "  \n",
        "  def predict_proba(self,X):\n",
        "    \"\"\"Xのクラス確率を予測する\n",
        "    パラメータ\n",
        "    ------------------\n",
        "    X : (array-like, sparse matrix), shape = [n_examples,n_classes]\n",
        "          各データ点に対する各クラスで重み付けた平均確率\n",
        "\n",
        "    \"\"\"\n",
        "    probas = np.asarray([clf.predict_proba(X)\n",
        "    for clf in self.classifiers_])\n",
        "    avg_proba = np.average(probas,axis=0,weights=self.weights)\n",
        "    return avg_proba\n",
        "  \n",
        "  def get_params(self, deep=True):\n",
        "    \"\"\"GridSerchの実行時に分類器のパラメータを取得\"\"\"\n",
        "    if not deep:\n",
        "      return super(MajorityVoteClassifier,self).get_params(deep=False)\n",
        "    else:\n",
        "        #キーを\"分類器の名前___パラメータ名\",\n",
        "        #値をパラメータの値とするディレクショナリを作成\n",
        "        out = self.named_classifiers.copy()\n",
        "        for name,step in self.named_classifiers.items():\n",
        "          for key,value in step.get_params(deep=True).items():\n",
        "            out['%s__%s' % (name,key)] = value\n",
        "        return out"
      ],
      "metadata": {
        "id": "P6w4VByZqIQl"
      },
      "execution_count": null,
      "outputs": []
    },
    {
      "cell_type": "markdown",
      "source": [
        "このコードではget_paramメソッドの修正バージョンを定義している\n",
        "\n",
        "name_estimators_を使ってアンサンブルの個々の分類器のパラメータにアクセスできるようにしたいから\n",
        "\n",
        "**7.2.2 多数決の原理に基づいて予測を行う**\n",
        "\n",
        "\n",
        "データセットの準備\n",
        "\n",
        "\n"
      ],
      "metadata": {
        "id": "qOdxO2BgxDwK"
      }
    },
    {
      "cell_type": "code",
      "source": [
        "from sklearn import datasets\n",
        "from sklearn.model_selection import train_test_split\n",
        "from sklearn.preprocessing import StandardScaler\n",
        "from sklearn.preprocessing import LabelEncoder\n",
        "iris = datasets.load_iris()\n",
        "X,y = iris.data[50:,[1,2]], iris.target[50:]\n",
        "le = LabelEncoder()\n",
        "y = le.fit_transform(y)"
      ],
      "metadata": {
        "id": "5i6tva2jw0lj"
      },
      "execution_count": null,
      "outputs": []
    },
    {
      "cell_type": "code",
      "source": [
        "X_train,X_test,y_train,y_test = train_test_split(X,y,test_size=0.5,random_state=1,stratify=y)"
      ],
      "metadata": {
        "id": "oN4yjnOhyJqi"
      },
      "execution_count": null,
      "outputs": []
    },
    {
      "cell_type": "markdown",
      "source": [
        "このデータセットを使って３種類の分類器を訓練する\n",
        "\n",
        "\n",
        "\n",
        "*   ロジスティック回帰部分類器\n",
        "*   決定木分類器\n",
        "\n",
        "*   k最近傍法分類器\n",
        "\n",
        "これらの分類器をアンサンブル分類器にまとめる前に１０分割交差検証を使って各分類器の訓練データセットでの性能を評価する\n",
        "\n",
        "\n",
        "\n",
        "\n"
      ],
      "metadata": {
        "id": "m7W-zjlKD26q"
      }
    },
    {
      "cell_type": "code",
      "source": [
        "from sklearn import pipeline\n",
        "from sklearn.model_selection import cross_val_score\n",
        "from sklearn.linear_model import LogisticRegression\n",
        "from sklearn.tree import DecisionTreeClassifier\n",
        "from sklearn.neighbors import KNeighborsClassifier\n",
        "from sklearn.pipeline import Pipeline\n",
        "clf1 = LogisticRegression(penalty='l2', \n",
        "                          C=0.001,\n",
        "                          solver='lbfgs',\n",
        "                          random_state=1)\n",
        "\n",
        "clf2 = DecisionTreeClassifier(max_depth=1,\n",
        "                              criterion='entropy',\n",
        "                              random_state=0)\n",
        "\n",
        "clf3 = KNeighborsClassifier(n_neighbors=1,\n",
        "                            p=2,\n",
        "                            metric='minkowski')\n",
        "\n",
        "pipe1 = Pipeline([['sc', StandardScaler()],\n",
        "                  ['clf', clf1]])\n",
        "pipe3 = Pipeline([['sc', StandardScaler()],\n",
        "                  ['clf', clf3]])\n",
        "\n",
        "clf_labels = ['Logistic regression', 'Decision tree', 'KNN']\n",
        "\n",
        "print('10-fold cross validation:\\n')\n",
        "for clf, label in zip([pipe1, clf2, pipe3], clf_labels):\n",
        "    scores = cross_val_score(estimator=clf,\n",
        "                             X=X_train,\n",
        "                             y=y_train,\n",
        "                             cv=10,\n",
        "                             scoring='roc_auc')\n",
        "    print(\"ROC AUC: %0.2f (+/- %0.2f) [%s]\"\n",
        "          % (scores.mean(), scores.std(), label))"
      ],
      "metadata": {
        "colab": {
          "base_uri": "https://localhost:8080/"
        },
        "id": "9vCk8dNIDPrd",
        "outputId": "ba408b39-8675-4ed6-bd70-41215f242afa"
      },
      "execution_count": null,
      "outputs": [
        {
          "output_type": "stream",
          "name": "stdout",
          "text": [
            "10-fold cross validation:\n",
            "\n",
            "ROC AUC: 0.92 (+/- 0.15) [Logistic regression]\n",
            "ROC AUC: 0.87 (+/- 0.18) [Decision tree]\n",
            "ROC AUC: 0.85 (+/- 0.13) [KNN]\n"
          ]
        }
      ]
    },
    {
      "cell_type": "markdown",
      "source": [
        "ロジスティック回帰とk最近傍法をパイプライン一部として訓練したのは特徴量の尺度に影響を受けるアルゴリズムだから\n",
        "\n",
        "\n",
        "多数決を使ってクラスラベルを予測するために個々の分類器をMajorityVoteClassifierオブジェクトで組み合わせる"
      ],
      "metadata": {
        "id": "0-shOeCZPQZ8"
      }
    },
    {
      "cell_type": "code",
      "source": [
        "# Majority Rule (hard) Voting\n",
        "\n",
        "mv_clf = MajorityVoteClassifier(classifiers=[pipe1, clf2, pipe3])\n",
        "\n",
        "clf_labels += ['Majority voting']\n",
        "all_clf = [pipe1, clf2, pipe3, mv_clf]\n",
        "\n",
        "for clf, label in zip(all_clf, clf_labels):\n",
        "    scores = cross_val_score(estimator=clf,\n",
        "                             X=X_train,\n",
        "                             y=y_train,\n",
        "                             cv=10,\n",
        "                             scoring='roc_auc')\n",
        "    print(\"ROC AUC: %0.2f (+/- %0.2f) [%s]\"\n",
        "          % (scores.mean(), scores.std(), label))"
      ],
      "metadata": {
        "colab": {
          "base_uri": "https://localhost:8080/"
        },
        "id": "TLU5idlOHPem",
        "outputId": "6086199c-622a-4409-b975-cba221fe7027"
      },
      "execution_count": null,
      "outputs": [
        {
          "output_type": "stream",
          "name": "stdout",
          "text": [
            "ROC AUC: 0.92 (+/- 0.15) [Logistic regression]\n",
            "ROC AUC: 0.87 (+/- 0.18) [Decision tree]\n",
            "ROC AUC: 0.85 (+/- 0.13) [KNN]\n",
            "ROC AUC: 0.98 (+/- 0.05) [Majority voting]\n"
          ]
        }
      ]
    },
    {
      "cell_type": "markdown",
      "source": [
        "**7.3 アンサンブル分類器の評価とチューニング**\n",
        "\n",
        "テストデータからROC曲線を計算し、MajorityVoteClassifierが未知のデータにうまく汎化されるかどうか確認する。\n",
        "\n",
        "モデル選択にはテストデータセットを使わないこと。\n",
        "\n",
        "テストデータセットは分類器の汎化性能について偏りのない推定量を算出するためだけに用いる"
      ],
      "metadata": {
        "id": "QyMeIPm5zi95"
      }
    },
    {
      "cell_type": "code",
      "source": [
        "from sklearn.metrics import roc_curve\n",
        "from sklearn.metrics import auc\n",
        "colors = ['black','orange','blue','green']\n",
        "linestyles = [':','--','-.','-']\n",
        "for clf,label, clr, ls in zip(all_clf,clf_labels,colors,linestyles):\n",
        "  #陽性クラスのラベルは１であることが前提\n",
        "  y_pred = clf.fit(X_train,y_train).predict_proba(X_test)[:,1]\n",
        "  fpr,tpr,thresholds = roc_curve(y_true=y_test,y_score=y_pred)\n",
        "  roc_auc = auc(x=fpr,y=tpr)\n",
        "  plt.plot(fpr,tpr,\n",
        "           color=clr,\n",
        "           linestyle=ls,\n",
        "           label='%s (auc = %0.2f)' % (label,roc_auc))\n",
        "plt.legend(loc='lower right')\n",
        "plt.plot([0,1],[0,1],\n",
        "          linestyle='--',\n",
        "          color='gray',\n",
        "          linewidth=2)\n",
        "plt.xlim([-0.1,1.1])\n",
        "plt.ylim([-0.1,1.1])\n",
        "plt.grid(alpha=0.5)\n",
        "plt.xlabel('False positive rate (FPR)')\n",
        "plt.ylabel('True positive rate (TPR')\n",
        "plt.show()"
      ],
      "metadata": {
        "colab": {
          "base_uri": "https://localhost:8080/",
          "height": 279
        },
        "id": "jnZatSVqRCsz",
        "outputId": "e783f2d5-6c1f-465e-8656-f6828f26b3df"
      },
      "execution_count": null,
      "outputs": [
        {
          "output_type": "display_data",
          "data": {
            "image/png": "[encoded data removed]",
            "text/plain": [
              "<Figure size 432x288 with 1 Axes>"
            ]
          },
          "metadata": {
            "needs_background": "light"
          }
        }
      ]
    },
    {
      "cell_type": "markdown",
      "source": [
        "決定木の決定領域の尺度を揃えるために、訓練データセットは標準化する。"
      ],
      "metadata": {
        "id": "8hgGmLpM2_Ah"
      }
    },
    {
      "cell_type": "code",
      "source": [
        "sc = StandardScaler()\n",
        "X_train_std = sc.fit_transform(X_train)\n",
        "from itertools import product\n",
        "\n",
        "all_clf = [pipe1, clf2, pipe3, mv_clf]\n",
        "\n",
        "x_min = X_train_std[:, 0].min() - 1\n",
        "x_max = X_train_std[:, 0].max() + 1\n",
        "y_min = X_train_std[:, 1].min() - 1\n",
        "y_max = X_train_std[:, 1].max() + 1\n",
        "\n",
        "xx, yy = np.meshgrid(np.arange(x_min, x_max, 0.1),\n",
        "                     np.arange(y_min, y_max, 0.1))\n",
        "\n",
        "f, axarr = plt.subplots(nrows=2, ncols=2, \n",
        "                        sharex='col', \n",
        "                        sharey='row', \n",
        "                        figsize=(7, 5))\n",
        "\n",
        "for idx, clf, tt in zip(product([0, 1], [0, 1]),\n",
        "                        all_clf, clf_labels):\n",
        "    clf.fit(X_train_std, y_train)\n",
        "    \n",
        "    Z = clf.predict(np.c_[xx.ravel(), yy.ravel()])\n",
        "    Z = Z.reshape(xx.shape)\n",
        "\n",
        "    axarr[idx[0], idx[1]].contourf(xx, yy, Z, alpha=0.3)\n",
        "    \n",
        "    axarr[idx[0], idx[1]].scatter(X_train_std[y_train==0, 0], \n",
        "                                  X_train_std[y_train==0, 1], \n",
        "                                  c='blue', \n",
        "                                  marker='^',\n",
        "                                  s=50)\n",
        "    \n",
        "    axarr[idx[0], idx[1]].scatter(X_train_std[y_train==1, 0], \n",
        "                                  X_train_std[y_train==1, 1], \n",
        "                                  c='green', \n",
        "                                  marker='o',\n",
        "                                  s=50)\n",
        "    \n",
        "    axarr[idx[0], idx[1]].set_title(tt)\n",
        "\n",
        "plt.text(-3.5, -5., \n",
        "         s='Sepal width [standardized]', \n",
        "         ha='center', va='center', fontsize=12)\n",
        "plt.text(-12.5, 4.5, \n",
        "         s='Petal length [standardized]', \n",
        "         ha='center', va='center', \n",
        "         fontsize=12, rotation=90)\n",
        "\n",
        "#plt.savefig('images/07_05', dpi=300)\n",
        "plt.show()"
      ],
      "metadata": {
        "colab": {
          "base_uri": "https://localhost:8080/",
          "height": 356
        },
        "id": "EjSyQ47k2ir2",
        "outputId": "76565994-b4d3-470d-9513-71ca88317bca"
      },
      "execution_count": null,
      "outputs": [
        {
          "output_type": "display_data",
          "data": {
            "image/png": "[encoded data removed]",
            "text/plain": [
              "<Figure size 504x360 with 4 Axes>"
            ]
          },
          "metadata": {
            "needs_background": "light"
          }
        }
      ]
    },
    {
      "cell_type": "code",
      "source": [
        "mv_clf.get_params()"
      ],
      "metadata": {
        "colab": {
          "base_uri": "https://localhost:8080/"
        },
        "id": "UpjEz5ymCTUR",
        "outputId": "ac64ad8b-19dc-46e4-925f-d70df4478198"
      },
      "execution_count": null,
      "outputs": [
        {
          "output_type": "execute_result",
          "data": {
            "text/plain": [
              "{'decisiontreeclassifier': DecisionTreeClassifier(criterion='entropy', max_depth=1, random_state=0),\n",
              " 'decisiontreeclassifier__ccp_alpha': 0.0,\n",
              " 'decisiontreeclassifier__class_weight': None,\n",
              " 'decisiontreeclassifier__criterion': 'entropy',\n",
              " 'decisiontreeclassifier__max_depth': 1,\n",
              " 'decisiontreeclassifier__max_features': None,\n",
              " 'decisiontreeclassifier__max_leaf_nodes': None,\n",
              " 'decisiontreeclassifier__min_impurity_decrease': 0.0,\n",
              " 'decisiontreeclassifier__min_samples_leaf': 1,\n",
              " 'decisiontreeclassifier__min_samples_split': 2,\n",
              " 'decisiontreeclassifier__min_weight_fraction_leaf': 0.0,\n",
              " 'decisiontreeclassifier__random_state': 0,\n",
              " 'decisiontreeclassifier__splitter': 'best',\n",
              " 'pipeline-1': Pipeline(steps=[('sc', StandardScaler()),\n",
              "                 ['clf', LogisticRegression(C=0.001, random_state=1)]]),\n",
              " 'pipeline-1__clf': LogisticRegression(C=0.001, random_state=1),\n",
              " 'pipeline-1__clf__C': 0.001,\n",
              " 'pipeline-1__clf__class_weight': None,\n",
              " 'pipeline-1__clf__dual': False,\n",
              " 'pipeline-1__clf__fit_intercept': True,\n",
              " 'pipeline-1__clf__intercept_scaling': 1,\n",
              " 'pipeline-1__clf__l1_ratio': None,\n",
              " 'pipeline-1__clf__max_iter': 100,\n",
              " 'pipeline-1__clf__multi_class': 'auto',\n",
              " 'pipeline-1__clf__n_jobs': None,\n",
              " 'pipeline-1__clf__penalty': 'l2',\n",
              " 'pipeline-1__clf__random_state': 1,\n",
              " 'pipeline-1__clf__solver': 'lbfgs',\n",
              " 'pipeline-1__clf__tol': 0.0001,\n",
              " 'pipeline-1__clf__verbose': 0,\n",
              " 'pipeline-1__clf__warm_start': False,\n",
              " 'pipeline-1__memory': None,\n",
              " 'pipeline-1__sc': StandardScaler(),\n",
              " 'pipeline-1__sc__copy': True,\n",
              " 'pipeline-1__sc__with_mean': True,\n",
              " 'pipeline-1__sc__with_std': True,\n",
              " 'pipeline-1__steps': [('sc', StandardScaler()),\n",
              "  ['clf', LogisticRegression(C=0.001, random_state=1)]],\n",
              " 'pipeline-1__verbose': False,\n",
              " 'pipeline-2': Pipeline(steps=[('sc', StandardScaler()),\n",
              "                 ['clf', KNeighborsClassifier(n_neighbors=1)]]),\n",
              " 'pipeline-2__clf': KNeighborsClassifier(n_neighbors=1),\n",
              " 'pipeline-2__clf__algorithm': 'auto',\n",
              " 'pipeline-2__clf__leaf_size': 30,\n",
              " 'pipeline-2__clf__metric': 'minkowski',\n",
              " 'pipeline-2__clf__metric_params': None,\n",
              " 'pipeline-2__clf__n_jobs': None,\n",
              " 'pipeline-2__clf__n_neighbors': 1,\n",
              " 'pipeline-2__clf__p': 2,\n",
              " 'pipeline-2__clf__weights': 'uniform',\n",
              " 'pipeline-2__memory': None,\n",
              " 'pipeline-2__sc': StandardScaler(),\n",
              " 'pipeline-2__sc__copy': True,\n",
              " 'pipeline-2__sc__with_mean': True,\n",
              " 'pipeline-2__sc__with_std': True,\n",
              " 'pipeline-2__steps': [('sc', StandardScaler()),\n",
              "  ['clf', KNeighborsClassifier(n_neighbors=1)]],\n",
              " 'pipeline-2__verbose': False}"
            ]
          },
          "metadata": {},
          "execution_count": 41
        }
      ]
    },
    {
      "cell_type": "markdown",
      "source": [
        "ロジスティック回帰分類器の逆正則化パラメータCと決定木の深さをチューニングしてみる\n",
        "\n",
        "これにはグリッドサーチを使う。"
      ],
      "metadata": {
        "id": "vUO8BlFXGTD7"
      }
    },
    {
      "cell_type": "code",
      "source": [
        "from sklearn.model_selection import GridSearchCV\n",
        "params = {'decisiontreeclassifier__max_depth' : [1,2],\n",
        "          'pipeline-1__clf__C' : [0.001,0.1,100.0]}\n",
        "grid = GridSearchCV(estimator=mv_clf,\n",
        "                    param_grid=params,\n",
        "                    cv=10,\n",
        "                    scoring='roc_auc')\n",
        "grid.fit(X_train,y_train)"
      ],
      "metadata": {
        "colab": {
          "base_uri": "https://localhost:8080/"
        },
        "id": "JqzN0TQSGJC1",
        "outputId": "11df4920-3ba9-47be-b1c9-cc0f4001da75"
      },
      "execution_count": null,
      "outputs": [
        {
          "output_type": "execute_result",
          "data": {
            "text/plain": [
              "GridSearchCV(cv=10,\n",
              "             estimator=MajorityVoteClassifier(classifiers=[Pipeline(steps=[('sc',\n",
              "                                                                            StandardScaler()),\n",
              "                                                                           ['clf',\n",
              "                                                                            LogisticRegression(C=0.001,\n",
              "                                                                                               random_state=1)]]),\n",
              "                                                           DecisionTreeClassifier(criterion='entropy',\n",
              "                                                                                  max_depth=1,\n",
              "                                                                                  random_state=0),\n",
              "                                                           Pipeline(steps=[('sc',\n",
              "                                                                            StandardScaler()),\n",
              "                                                                           ['clf',\n",
              "                                                                            KNeighborsClassifier(n_neighbors=1)]])]),\n",
              "             param_grid={'decisiontreeclassifier__max_depth': [1, 2],\n",
              "                         'pipeline-1__clf__C': [0.001, 0.1, 100.0]},\n",
              "             scoring='roc_auc')"
            ]
          },
          "metadata": {},
          "execution_count": 42
        }
      ]
    },
    {
      "cell_type": "code",
      "source": [
        "for r, _ in enumerate(grid.cv_results_['mean_test_score']):\n",
        "  print(\"%0.3f +/- %0.2f %r\"\n",
        "  % (grid.cv_results_['mean_test_score'][r],\n",
        "     grid.cv_results_['std_test_score'][r]/2.0,\n",
        "     grid.cv_results_['params'][r]))\n",
        "  \n",
        "print('Best parameters: %s' % grid.best_params_)\n",
        "\n",
        "print('Accuracy: %.2f' % grid.best_score_)"
      ],
      "metadata": {
        "colab": {
          "base_uri": "https://localhost:8080/"
        },
        "id": "s4jysuCWJe7S",
        "outputId": "c95d907e-ead1-4fa1-f9d9-0e109cb31209"
      },
      "execution_count": null,
      "outputs": [
        {
          "output_type": "stream",
          "name": "stdout",
          "text": [
            "0.983 +/- 0.02 {'decisiontreeclassifier__max_depth': 1, 'pipeline-1__clf__C': 0.001}\n",
            "0.983 +/- 0.02 {'decisiontreeclassifier__max_depth': 1, 'pipeline-1__clf__C': 0.1}\n",
            "0.967 +/- 0.05 {'decisiontreeclassifier__max_depth': 1, 'pipeline-1__clf__C': 100.0}\n",
            "0.983 +/- 0.02 {'decisiontreeclassifier__max_depth': 2, 'pipeline-1__clf__C': 0.001}\n",
            "0.983 +/- 0.02 {'decisiontreeclassifier__max_depth': 2, 'pipeline-1__clf__C': 0.1}\n",
            "0.967 +/- 0.05 {'decisiontreeclassifier__max_depth': 2, 'pipeline-1__clf__C': 100.0}\n",
            "Best parameters: {'decisiontreeclassifier__max_depth': 1, 'pipeline-1__clf__C': 0.001}\n",
            "Accuracy: 0.98\n"
          ]
        }
      ]
    },
    {
      "cell_type": "markdown",
      "source": [
        "7.4 バギング：ブーストラップ標本を使った分類器アンサンブルの構築\n",
        "\n",
        "7.4.2 バギングを使ってWineデータセットのデータ点を分類する"
      ],
      "metadata": {
        "id": "VTEvkJUOMdto"
      }
    },
    {
      "cell_type": "code",
      "source": [
        "import pandas as pd\n",
        "df_wine = pd.read_csv('https://archive.ics.uci.edu/ml/'\n",
        "                      'machine-learning-databases/wine/wine.data',\n",
        "                      header=None)\n",
        "\n",
        "df_wine.columns = ['Class label', 'Alcohol', 'Malic acid', 'Ash',\n",
        "                   'Alcalinity of ash', 'Magnesium', 'Total phenols',\n",
        "                   'Flavanoids', 'Nonflavanoid phenols', 'Proanthocyanins',\n",
        "                   'Color intensity', 'Hue', 'OD280/OD315 of diluted wines',\n",
        "                   'Proline']\n",
        "\n",
        "#クラス１を削除\n",
        "df_wine = df_wine[df_wine['Class label'] != 1]\n",
        "y= df_wine['Class label'].values\n",
        "X= df_wine[['Alcohol', 'OD280/OD315 of diluted wines']].values"
      ],
      "metadata": {
        "id": "Pb-E3hAuLRK5"
      },
      "execution_count": null,
      "outputs": []
    },
    {
      "cell_type": "markdown",
      "source": [
        "クラスラベルを二値で分類エンコードし、データセットを80％の訓練データセットと20％のテストデータセットに分割する"
      ],
      "metadata": {
        "id": "GzqAzuXNP1PW"
      }
    },
    {
      "cell_type": "code",
      "source": [
        "from sklearn.preprocessing import LabelEncoder\n",
        "from sklearn.model_selection import train_test_split\n",
        "\n",
        "le =  LabelEncoder()\n",
        "y = le.fit_transform(y)\n",
        "\n",
        "X_train,X_test,y_train,y_test = \\\n",
        "train_test_split(X,y,\n",
        "                 test_size=0.2,\n",
        "                 random_state=1,\n",
        "                 stratify=y)"
      ],
      "metadata": {
        "id": "YHNKJ6MsPKjB"
      },
      "execution_count": null,
      "outputs": []
    },
    {
      "cell_type": "markdown",
      "source": [
        "baggingclassifierはsklearnに実装されており、ensembleサブモジュールからインポートできる。\n",
        "\n",
        "maxdepth=Noneにすると決定木の深さに最大値を設けることがなく、各ノードが純粋になるまで分岐を繰り返す。"
      ],
      "metadata": {
        "id": "ns5STrUsiuVa"
      }
    },
    {
      "cell_type": "code",
      "source": [
        "from sklearn.ensemble import BaggingClassifier\n",
        "from sklearn.tree import DecisionTreeClassifier\n",
        "\n",
        "tree = DecisionTreeClassifier(criterion='entropy',\n",
        "                              max_depth=None,\n",
        "                              random_state=1)\n",
        "\n",
        "bag = BaggingClassifier(base_estimator=tree,\n",
        "                        n_estimators=500,\n",
        "                        max_samples=1.0,\n",
        "                        max_features=1.0,\n",
        "                        bootstrap=True,\n",
        "                        bootstrap_features=False,\n",
        "                        n_jobs=1,\n",
        "                        random_state=1)"
      ],
      "metadata": {
        "id": "rKCXdldUniXQ"
      },
      "execution_count": null,
      "outputs": []
    },
    {
      "cell_type": "markdown",
      "source": [
        "訓練データセットしてとテストデータセットで予測の正解率を計算し、決定木の性能とバギング分類器の性能を比較する"
      ],
      "metadata": {
        "id": "DCBIEqEiqBZP"
      }
    },
    {
      "cell_type": "code",
      "source": [
        "from sklearn.metrics import accuracy_score\n",
        "tree = tree.fit(X_train,y_train)\n",
        "y_train_pred = tree.predict(X_train)\n",
        "y_test_pred = tree.predict(X_test)\n",
        "\n",
        "tree_train = accuracy_score(y_train,y_train_pred)\n",
        "tree_test = accuracy_score(y_test,y_test_pred)\n",
        "print('Decision tree train/test accuracies %.3f/%.3f'\n",
        "% (tree_train,tree_test))\n",
        "\n",
        "bag = bag.fit(X_train,y_train)\n",
        "y_train_pred = bag.predict(X_train)\n",
        "y_test_pred = bag.predict(X_test)\n",
        "#過学習が大きい→バリアンスが高い→バギングして過学習を抑える\n",
        "bag_train = accuracy_score(y_train,y_train_pred)\n",
        "bag_test = accuracy_score(y_test,y_test_pred)\n",
        "print('Bagging train/test accuracies %.3f/%.3f' % (bag_train,bag_test))"
      ],
      "metadata": {
        "colab": {
          "base_uri": "https://localhost:8080/"
        },
        "id": "dF_MHSAFiW9q",
        "outputId": "2fa86626-d60c-4e4f-84ae-5147ebedf7f7"
      },
      "execution_count": null,
      "outputs": [
        {
          "output_type": "stream",
          "name": "stdout",
          "text": [
            "Decision tree train/test accuracies 1.000/0.833\n",
            "Bagging train/test accuracies 1.000/0.917\n"
          ]
        }
      ]
    },
    {
      "cell_type": "markdown",
      "source": [
        "決定木とバギング分類器の訓練の正解率は、訓練データセットに関してはほぼ似通っているが、テストデータセットで評価された汎化性能はバギング分類器の方がわずかに上回っている。\n",
        "決定木とバギング分類器の決定領域を比較してみる"
      ],
      "metadata": {
        "id": "nxq3djyV1se2"
      }
    },
    {
      "cell_type": "code",
      "source": [
        "ix_min = X_train[:, 0].min() - 1\n",
        "x_max = X_train[:, 0].max() + 1\n",
        "y_min = X_train[:, 1].min() - 1\n",
        "y_max = X_train[:, 1].max() + 1\n",
        "\n",
        "xx, yy = np.meshgrid(np.arange(x_min, x_max, 0.1),\n",
        "                     np.arange(y_min, y_max, 0.1))\n",
        "\n",
        "f, axarr = plt.subplots(nrows=1, ncols=2, \n",
        "                        sharex='col', \n",
        "                        sharey='row', \n",
        "                        figsize=(8, 3))\n",
        "\n",
        "\n",
        "for idx, clf, tt in zip([0, 1],\n",
        "                        [tree, bag],\n",
        "                        ['Decision tree', 'Bagging']):\n",
        "    clf.fit(X_train, y_train)\n",
        "\n",
        "    Z = clf.predict(np.c_[xx.ravel(), yy.ravel()])\n",
        "    Z = Z.reshape(xx.shape)\n",
        "\n",
        "    axarr[idx].contourf(xx, yy, Z, alpha=0.3)\n",
        "    axarr[idx].scatter(X_train[y_train == 0, 0],\n",
        "                       X_train[y_train == 0, 1],\n",
        "                       c='blue', marker='^')\n",
        "\n",
        "    axarr[idx].scatter(X_train[y_train == 1, 0],\n",
        "                       X_train[y_train == 1, 1],\n",
        "                       c='green', marker='o')\n",
        "\n",
        "    axarr[idx].set_title(tt)\n",
        "\n",
        "axarr[0].set_ylabel('Alcohol', fontsize=12)\n",
        "plt.text(10.2, -0.5,\n",
        "         s='OD280/OD315 of diluted wines',\n",
        "         ha='center', va='center', fontsize=12)\n",
        "\n",
        "plt.tight_layout()\n",
        "#plt.savefig('images/07_08.png', dpi=300, bbox_inches='tight')\n",
        "plt.show()\n",
        "\n",
        "\"\"\"\n",
        "Decision tree train/test accuracies 1.000/0.833\n",
        "Bagging train/test accuracies 1.000/0.917\n",
        "\"\"\""
      ],
      "metadata": {
        "colab": {
          "base_uri": "https://localhost:8080/",
          "height": 222
        },
        "id": "sFflvv1ip87D",
        "outputId": "2b4ee779-e106-4924-cafc-097235c0cf94"
      },
      "execution_count": null,
      "outputs": [
        {
          "output_type": "display_data",
          "data": {
            "image/png": "[encoded data removed]",
            "text/plain": [
              "<Figure size 576x216 with 2 Axes>"
            ]
          },
          "metadata": {
            "needs_background": "light"
          }
        }
      ]
    },
    {
      "cell_type": "markdown",
      "source": [
        "7.5 アダブーストによる弱学習器の活用\n",
        "\n",
        "ブースティング\n",
        "\n",
        "7.5.1 ブースティングの仕組み\n",
        "\n",
        "7.5.2 sklearnを使ってアダブーストを適用する"
      ],
      "metadata": {
        "id": "EwUgcK74EefP"
      }
    },
    {
      "cell_type": "code",
      "source": [
        "from scipy.stats.stats import DescribeResult\n",
        "from sklearn.ensemble import AdaBoostClassifier\n",
        "\n",
        "tree = DecisionTreeClassifier(criterion='entropy',\n",
        "                      max_depth=1,\n",
        "                      random_state=1)\n",
        "\n",
        "ada = AdaBoostClassifier(base_estimator=tree,\n",
        "                         n_estimators=500,\n",
        "                         learning_rate=0.1,\n",
        "                         random_state=1)"
      ],
      "metadata": {
        "id": "THH_gi9ODhTy"
      },
      "execution_count": null,
      "outputs": []
    },
    {
      "cell_type": "code",
      "source": [
        "tree = tree.fit(X_train,y_train)\n",
        "y_train_pred = tree.predict(X_train)\n",
        "y_test_pred = tree.predict(X_test)\n",
        "\n",
        "tree_train = accuracy_score(y_train,y_train_pred)\n",
        "tree_test = accuracy_score(y_test,y_test_pred)\n",
        "print('Decision tree train/test accuracies %.3f/%.3f'\n",
        "% (tree_train,tree_test))\n",
        "\n",
        "ada = ada.fit(X_train,y_train)\n",
        "y_train_pred = ada.predict(X_train)\n",
        "y_test_pred = ada.predict(X_test)\n",
        "\n",
        "ada_train = accuracy_score(y_train,y_train_pred)\n",
        "ada_test = accuracy_score(y_test,y_test_pred)\n",
        "print('AdaBoost train/test accuracies %.3f/%.3f'\n",
        "% (ada_train,ada_test))"
      ],
      "metadata": {
        "colab": {
          "base_uri": "https://localhost:8080/"
        },
        "id": "r7Y-IYdnHK3V",
        "outputId": "d025d93a-b9ba-4f63-9442-8a839f02791c"
      },
      "execution_count": null,
      "outputs": [
        {
          "output_type": "stream",
          "name": "stdout",
          "text": [
            "Decision tree train/test accuracies 0.916/0.875\n",
            "AdaBoost train/test accuracies 1.000/0.917\n"
          ]
        }
      ]
    },
    {
      "cell_type": "code",
      "source": [
        "x_min, x_max = X_train[:, 0].min() - 1, X_train[:, 0].max() + 1\n",
        "y_min, y_max = X_train[:, 1].min() - 1, X_train[:, 1].max() + 1\n",
        "xx, yy = np.meshgrid(np.arange(x_min, x_max, 0.1),\n",
        "                     np.arange(y_min, y_max, 0.1))\n",
        "\n",
        "f, axarr = plt.subplots(1, 2, sharex='col', sharey='row', figsize=(8, 3))\n",
        "\n",
        "\n",
        "for idx, clf, tt in zip([0, 1],\n",
        "                        [tree, ada],\n",
        "                        ['Decision tree', 'AdaBoost']):\n",
        "    clf.fit(X_train, y_train)\n",
        "\n",
        "    Z = clf.predict(np.c_[xx.ravel(), yy.ravel()])\n",
        "    Z = Z.reshape(xx.shape)\n",
        "\n",
        "    axarr[idx].contourf(xx, yy, Z, alpha=0.3)\n",
        "    axarr[idx].scatter(X_train[y_train == 0, 0],\n",
        "                       X_train[y_train == 0, 1],\n",
        "                       c='blue', marker='^')\n",
        "    axarr[idx].scatter(X_train[y_train == 1, 0],\n",
        "                       X_train[y_train == 1, 1],\n",
        "                       c='green', marker='o')\n",
        "    axarr[idx].set_title(tt)\n",
        "\n",
        "axarr[0].set_ylabel('Alcohol', fontsize=12)\n",
        "plt.text(10.2, -0.5,\n",
        "         s='OD280/OD315 of diluted wines',\n",
        "         ha='center', va='center', fontsize=12)\n",
        "\n",
        "plt.tight_layout()\n",
        "#plt.savefig('images/07_11.png', dpi=300, bbox_inches='tight')\n",
        "plt.show()\n",
        "\n",
        "'''\n",
        "Decision tree train/test accuracies 0.916/0.875\n",
        "AdaBoost train/test accuracies 1.000/0.917\n",
        "'''\n"
      ],
      "metadata": {
        "colab": {
          "base_uri": "https://localhost:8080/",
          "height": 222
        },
        "id": "xQTLMTOaIZYx",
        "outputId": "8eb0a99a-c1ec-4e0b-8e2b-abb3c1488dcb"
      },
      "execution_count": null,
      "outputs": [
        {
          "output_type": "display_data",
          "data": {
            "image/png": "[encoded data removed]",
            "text/plain": [
              "<Figure size 576x216 with 2 Axes>"
            ]
          },
          "metadata": {
            "needs_background": "light"
          }
        }
      ]
    },
    {
      "cell_type": "code",
      "source": [
        ""
      ],
      "metadata": {
        "id": "dgaF2TuTJSV9"
      },
      "execution_count": null,
      "outputs": []
    }
  ]
}